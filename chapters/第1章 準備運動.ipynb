{
 "cells": [
  {
   "cell_type": "markdown",
   "id": "electric-state",
   "metadata": {},
   "source": [
    "## 00. 文字列の逆順\n",
    "文字列”stressed”の文字を逆に（末尾から先頭に向かって）並べた文字列を得よ．"
   ]
  },
  {
   "cell_type": "code",
   "execution_count": 1,
   "id": "forbidden-jesus",
   "metadata": {},
   "outputs": [
    {
     "name": "stdout",
     "output_type": "stream",
     "text": [
      "desserts\n"
     ]
    }
   ],
   "source": [
    "string = 'stressed'\n",
    "result = string[::-1]\n",
    "\n",
    "print(result)"
   ]
  },
  {
   "cell_type": "markdown",
   "id": "transsexual-baking",
   "metadata": {},
   "source": [
    "## 01. 「パタトクカシーー」\n",
    "「パタトクカシーー」という文字列の1,3,5,7文字目を取り出して連結した文字列を得よ．"
   ]
  },
  {
   "cell_type": "code",
   "execution_count": 2,
   "id": "hidden-pharmaceutical",
   "metadata": {},
   "outputs": [
    {
     "name": "stdout",
     "output_type": "stream",
     "text": [
      "タクシー\n"
     ]
    }
   ],
   "source": [
    "from operator import itemgetter\n",
    "\n",
    "string = 'パタトクカシーー'\n",
    "result = ''.join(itemgetter(1, 3, 5, 7)(string))\n",
    "\n",
    "print(result)"
   ]
  },
  {
   "cell_type": "markdown",
   "id": "indian-humanitarian",
   "metadata": {},
   "source": [
    "## 02. 「パトカー」＋「タクシー」＝「パタトクカシーー」\n",
    "「パトカー」＋「タクシー」の文字を先頭から交互に連結して文字列「パタトクカシーー」を得よ．"
   ]
  },
  {
   "cell_type": "code",
   "execution_count": 3,
   "id": "mounted-blackberry",
   "metadata": {},
   "outputs": [
    {
     "name": "stdout",
     "output_type": "stream",
     "text": [
      "パタトクカシーー\n"
     ]
    }
   ],
   "source": [
    "string1 = 'パトカー'\n",
    "string2 = 'タクシー'\n",
    "result = ''.join(f'{s1}{s2}' for s1, s2 in zip(string1, string2))\n",
    "\n",
    "print(result)"
   ]
  },
  {
   "cell_type": "markdown",
   "id": "massive-monthly",
   "metadata": {},
   "source": [
    "## 03. 円周率\n",
    "\"Now I need a drink, alcoholic of course, after the heavy lectures involving quantum mechanics.”という文を単語に分解し，各単語の（アルファベットの）文字数を先頭から出現順に並べたリストを作成せよ．"
   ]
  },
  {
   "cell_type": "code",
   "execution_count": 4,
   "id": "personal-harvest",
   "metadata": {},
   "outputs": [
    {
     "name": "stdout",
     "output_type": "stream",
     "text": [
      "[3, 1, 4, 1, 5, 9, 2, 6, 5, 3, 5, 8, 9, 7, 9]\n"
     ]
    }
   ],
   "source": [
    "import re\n",
    "\n",
    "sentence = 'Now I need a drink, alcoholic of course, after the heavy lectures involving quantum mechanics.'\n",
    "words = re.sub('[,\\.]', '', sentence).split(' ')\n",
    "result = [len(word) for word in words]\n",
    "\n",
    "print(result)"
   ]
  },
  {
   "cell_type": "markdown",
   "id": "fantastic-florida",
   "metadata": {},
   "source": [
    "## 04. 元素記号\n",
    "“Hi He Lied Because Boron Could Not Oxidize Fluorine. New Nations Might Also Sign Peace Security Clause. Arthur King Can.”という文を単語に分解し，1, 5, 6, 7, 8, 9, 15, 16, 19番目の単語は先頭の1文字，それ以外の単語は先頭の2文字を取り出し，取り出した文字列から単語の位置（先頭から何番目の単語か）への連想配列（辞書型もしくはマップ型）を作成せよ．"
   ]
  },
  {
   "cell_type": "code",
   "execution_count": 5,
   "id": "adjustable-excitement",
   "metadata": {},
   "outputs": [
    {
     "data": {
      "text/plain": [
       "{'H': 1,\n",
       " 'He': 2,\n",
       " 'Li': 3,\n",
       " 'Be': 4,\n",
       " 'B': 5,\n",
       " 'C': 6,\n",
       " 'N': 7,\n",
       " 'O': 8,\n",
       " 'F': 9,\n",
       " 'Ne': 10,\n",
       " 'Na': 11,\n",
       " 'Mi': 12,\n",
       " 'Al': 13,\n",
       " 'Si': 14,\n",
       " 'P': 15,\n",
       " 'S': 16,\n",
       " 'Cl': 17,\n",
       " 'Ar': 18,\n",
       " 'K': 19,\n",
       " 'Ca': 20}"
      ]
     },
     "execution_count": 5,
     "metadata": {},
     "output_type": "execute_result"
    }
   ],
   "source": [
    "import re\n",
    "\n",
    "sentence = 'Hi He Lied Because Boron Could Not Oxidize Fluorine. New Nations Might Also Sign Peace Security Clause. Arthur King Can.'\n",
    "words = re.sub('\\.', '', sentence).split(' ')\n",
    "\n",
    "result = {}\n",
    "for i, word in enumerate(words, 1):\n",
    "    end = 1 if i in {1, 5, 6, 7, 8, 9, 15, 16, 19} else 2\n",
    "    result[word[:end]] = i\n",
    "\n",
    "result"
   ]
  },
  {
   "cell_type": "markdown",
   "id": "warming-mills",
   "metadata": {},
   "source": [
    "## 05. n-gram\n",
    "与えられたシーケンス（文字列やリストなど）からn-gramを作る関数を作成せよ．この関数を用い，”I am an NLPer”という文から単語bi-gram，文字bi-gramを得よ．"
   ]
  },
  {
   "cell_type": "code",
   "execution_count": 6,
   "id": "mechanical-somerset",
   "metadata": {},
   "outputs": [
    {
     "name": "stdout",
     "output_type": "stream",
     "text": [
      "単語bi-gram: [['I', 'am'], ['am', 'an'], ['an', 'NLPer']]\n",
      "文字bi-gram: ['I ', ' a', 'am', 'm ', ' a', 'an', 'n ', ' N', 'NL', 'LP', 'Pe', 'er']\n"
     ]
    }
   ],
   "source": [
    "import re\n",
    "\n",
    "\n",
    "def create_ngram(sequence, n=2, mode='char'):\n",
    "    assert isinstance(sequence, str) or isinstance(sequence, list)\n",
    "    assert isinstance(n, int) and n > 0\n",
    "    assert mode in {'char', 'word'}\n",
    "\n",
    "    if isinstance(sequence, str):\n",
    "        return _split_into_ngram(sequence, n, mode)\n",
    "    else:\n",
    "        return [_split_into_ngram(seq, n, mode) for seq in sequence]\n",
    "\n",
    "\n",
    "def _split_into_ngram(sequence, n, mode):\n",
    "    sequence = re.sub('(?=[^ ])(?=\\W).', '', sequence)\n",
    "\n",
    "    if mode == 'char':\n",
    "        return [sequence[i:i + n] for i in range(len(sequence) - n + 1)]\n",
    "    else:\n",
    "        segments = sequence.split(' ')\n",
    "        return [segments[i:i + n] for i in range(len(segments) - n + 1)]\n",
    "\n",
    "\n",
    "sentence = 'I am an NLPer'\n",
    "result1 = create_ngram(sentence, n=2, mode='word')\n",
    "result2 = create_ngram(sentence, n=2, mode='char')\n",
    "\n",
    "print(f'単語bi-gram: {result1}')\n",
    "print(f'文字bi-gram: {result2}')"
   ]
  },
  {
   "cell_type": "markdown",
   "id": "basic-triple",
   "metadata": {},
   "source": [
    "## 06. 集合\n",
    "“paraparaparadise”と”paragraph”に含まれる文字bi-gramの集合を，それぞれ, XとYとして求め，XとYの和集合，積集合，差集合を求めよ．さらに，’se’というbi-gramがXおよびYに含まれるかどうかを調べよ．"
   ]
  },
  {
   "cell_type": "code",
   "execution_count": 7,
   "id": "surprised-italian",
   "metadata": {},
   "outputs": [
    {
     "name": "stdout",
     "output_type": "stream",
     "text": [
      "和集合: {'ra', 'gr', 'ar', 'di', 'is', 'ph', 'ad', 'se', 'pa', 'ag', 'ap'}\n",
      "積集合: {'pa', 'ar', 'ra', 'ap'}\n",
      "差集合: {'gr', 'di', 'ph', 'ad', 'is', 'se', 'ag'}\n",
      "Xにse : True\n",
      "Yにse : False\n"
     ]
    }
   ],
   "source": [
    "word1 = 'paraparaparadise'\n",
    "word2 = 'paragraph'\n",
    "\n",
    "X = set(create_ngram(word1, n=2, mode='char'))\n",
    "Y = set(create_ngram(word2, n=2, mode='char'))\n",
    "\n",
    "union = X | Y\n",
    "inter = X & Y\n",
    "diff = X ^ Y\n",
    "\n",
    "se_in_X = 'se' in X\n",
    "se_in_Y = 'se' in Y\n",
    "\n",
    "print(f'和集合: {union}')\n",
    "print(f'積集合: {inter}')\n",
    "print(f'差集合: {diff}')\n",
    "print(f'Xにse : {se_in_X}')\n",
    "print(f'Yにse : {se_in_Y}')"
   ]
  },
  {
   "cell_type": "markdown",
   "id": "growing-strap",
   "metadata": {},
   "source": [
    "## 07. テンプレートによる文生成\n",
    "引数x, y, zを受け取り「x時のyはz」という文字列を返す関数を実装せよ．さらに，x=12, y=”気温”, z=22.4として，実行結果を確認せよ．"
   ]
  },
  {
   "cell_type": "code",
   "execution_count": 8,
   "id": "characteristic-performer",
   "metadata": {},
   "outputs": [
    {
     "name": "stdout",
     "output_type": "stream",
     "text": [
      "12時の気温は22.4\n"
     ]
    }
   ],
   "source": [
    "def func(x, y, z):\n",
    "    return f'{x}時の{y}は{z}'\n",
    "\n",
    "\n",
    "result = func(x=12, y='気温', z=22.4)\n",
    "print(result)"
   ]
  },
  {
   "cell_type": "markdown",
   "id": "current-connecticut",
   "metadata": {},
   "source": [
    "## 08. 暗号文\n",
    "与えられた文字列の各文字を，以下の仕様で変換する関数cipherを実装せよ．\n",
    "- 英小文字ならば(219 - 文字コード)の文字に置換\n",
    "- その他の文字はそのまま出力\n",
    "\n",
    "この関数を用い，英語のメッセージを暗号化・復号化せよ．"
   ]
  },
  {
   "cell_type": "code",
   "execution_count": 9,
   "id": "racial-feeding",
   "metadata": {},
   "outputs": [],
   "source": [
    "def cipher(string):\n",
    "    return ''.join(chr(219 - ord(s)) if s.islower() else s for s in string)\n",
    "\n",
    "\n",
    "assert cipher('test') == 'gvhg'\n",
    "assert cipher('Test') == 'Tvhg'\n",
    "assert cipher(cipher('test')) == 'test'"
   ]
  },
  {
   "cell_type": "markdown",
   "id": "grateful-preliminary",
   "metadata": {},
   "source": [
    "## 09. Typoglycemia\n",
    "スペースで区切られた単語列に対して，各単語の先頭と末尾の文字は残し，それ以外の文字の順序をランダムに並び替えるプログラムを作成せよ．ただし，長さが４以下の単語は並び替えないこととする．適当な英語の文（例えば”I couldn’t believe that I could actually understand what I was reading : the phenomenal power of the human mind .”）を与え，その実行結果を確認せよ．"
   ]
  },
  {
   "cell_type": "code",
   "execution_count": 10,
   "id": "greater-north",
   "metadata": {},
   "outputs": [
    {
     "name": "stdout",
     "output_type": "stream",
     "text": [
      "I cnu'dlot blieeve that I cuold aulctlay uesrdnatnd what I was rdeinag : the pmnnaoehel pwoer of the hmuan mind .\n"
     ]
    }
   ],
   "source": [
    "import re\n",
    "from random import sample\n",
    "\n",
    "\n",
    "def typoglycemia(sentence):\n",
    "    return ' '.join(word[0] + ''.join(sample(word[1:-1], k=len(word[1:-1]))) +\n",
    "                    word[-1] if len(word) > 4 else word\n",
    "                    for word in sentence.split(' '))\n",
    "\n",
    "\n",
    "sentence = 'I couldn\\'t believe that I could actually understand what I was reading : the phenomenal power of the human mind .'\n",
    "result = typoglycemia(sentence)\n",
    "\n",
    "print(result)"
   ]
  },
  {
   "cell_type": "code",
   "execution_count": null,
   "id": "treated-sunrise",
   "metadata": {},
   "outputs": [],
   "source": []
  }
 ],
 "metadata": {
  "kernelspec": {
   "display_name": "Python 3",
   "language": "python",
   "name": "python3"
  },
  "language_info": {
   "codemirror_mode": {
    "name": "ipython",
    "version": 3
   },
   "file_extension": ".py",
   "mimetype": "text/x-python",
   "name": "python",
   "nbconvert_exporter": "python",
   "pygments_lexer": "ipython3",
   "version": "3.8.7"
  }
 },
 "nbformat": 4,
 "nbformat_minor": 5
}
