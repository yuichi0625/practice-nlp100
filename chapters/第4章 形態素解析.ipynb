{
 "cells": [
  {
   "cell_type": "markdown",
   "metadata": {},
   "source": [
    "夏目漱石の小説『吾輩は猫である』の文章（[neko.txt](https://nlp100.github.io/data/neko.txt)）をMeCabを使って形態素解析し，その結果をneko.txt.mecabというファイルに保存せよ．このファイルを用いて，以下の問に対応するプログラムを実装せよ．\n",
    "\n",
    "なお，問題37, 38, 39は[matplotlib](http://matplotlib.org/)もしくは[Gnuplot](http://www.gnuplot.info/)を用いるとよい．"
   ]
  },
  {
   "cell_type": "code",
   "execution_count": 1,
   "metadata": {},
   "outputs": [],
   "source": [
    "import requests\n",
    "import MeCab\n",
    "\n",
    "res = requests.get('https://nlp100.github.io/data/neko.txt')\n",
    "with open('neko.txt', 'w', encoding='utf-8') as f:\n",
    "    f.write(res.text)\n",
    "    \n",
    "tagger = MeCab.Tagger('mecabrc')\n",
    "with open('neko.txt', encoding='utf-8') as f:\n",
    "    result = tagger.parse(f.read())\n",
    "with open('neko.txt.mecab', 'w', encoding='utf-8') as f:\n",
    "    f.write(result)"
   ]
  },
  {
   "cell_type": "markdown",
   "metadata": {},
   "source": [
    "## 30. 形態素解析結果の読み込み\n",
    "形態素解析結果（neko.txt.mecab）を読み込むプログラムを実装せよ．ただし，各形態素は表層形（surface），基本形（base），品詞（pos），品詞細分類1（pos1）をキーとするマッピング型に格納し，1文を形態素（マッピング型）のリストとして表現せよ．第4章の残りの問題では，ここで作ったプログラムを活用せよ．"
   ]
  },
  {
   "cell_type": "code",
   "execution_count": 2,
   "metadata": {},
   "outputs": [],
   "source": [
    "def load_mecab_gen(filename):\n",
    "    with open(filename, encoding='utf-8') as f:\n",
    "        sentence = []\n",
    "        # 表層系\\t品詞,品詞細分類1,品詞細分類2,品詞細分類3,活用形,活用型,原形,読み,発音\n",
    "        for line in iter(f.readline, ''):\n",
    "            # 'EOS'のみtabで分割されていない\n",
    "            surface, feature =  split if len((split := line.rstrip().split('\\t'))) == 2 else (split[0], '')\n",
    "\n",
    "            if surface in {'\\u3000', '。', 'EOS'}:\n",
    "                if sentence:\n",
    "                    yield sentence\n",
    "                    sentence = []\n",
    "            else:\n",
    "                # len(feature)==7のものも存在する模様\n",
    "                pos, pos1, _, _, _, _, base, *_ = feature.split(',')\n",
    "                sentence.append({'surface': surface, 'base': base, 'pos': pos, 'pos1': pos1})"
   ]
  },
  {
   "cell_type": "code",
   "execution_count": 3,
   "metadata": {},
   "outputs": [
    {
     "name": "stdout",
     "output_type": "stream",
     "text": [
      "-----------------\n",
      "{'surface': '一', 'base': '一', 'pos': '名詞', 'pos1': '数'}\n",
      "-----------------\n",
      "{'surface': '吾輩', 'base': '吾輩', 'pos': '名詞', 'pos1': '代名詞'}\n",
      "{'surface': 'は', 'base': 'は', 'pos': '助詞', 'pos1': '係助詞'}\n",
      "{'surface': '猫', 'base': '猫', 'pos': '名詞', 'pos1': '一般'}\n",
      "{'surface': 'で', 'base': 'だ', 'pos': '助動詞', 'pos1': '*'}\n",
      "{'surface': 'ある', 'base': 'ある', 'pos': '助動詞', 'pos1': '*'}\n",
      "-----------------\n",
      "{'surface': '名前', 'base': '名前', 'pos': '名詞', 'pos1': '一般'}\n",
      "{'surface': 'は', 'base': 'は', 'pos': '助詞', 'pos1': '係助詞'}\n",
      "{'surface': 'まだ', 'base': 'まだ', 'pos': '副詞', 'pos1': '助詞類接続'}\n",
      "{'surface': '無い', 'base': '無い', 'pos': '形容詞', 'pos1': '自立'}\n",
      "-----------------\n",
      "{'surface': 'どこ', 'base': 'どこ', 'pos': '名詞', 'pos1': '代名詞'}\n",
      "{'surface': 'で', 'base': 'で', 'pos': '助詞', 'pos1': '格助詞'}\n",
      "{'surface': '生れ', 'base': '生れる', 'pos': '動詞', 'pos1': '自立'}\n",
      "{'surface': 'た', 'base': 'た', 'pos': '助動詞', 'pos1': '*'}\n",
      "{'surface': 'か', 'base': 'か', 'pos': '助詞', 'pos1': '副助詞／並立助詞／終助詞'}\n",
      "{'surface': 'とんと', 'base': 'とんと', 'pos': '副詞', 'pos1': '一般'}\n",
      "{'surface': '見当', 'base': '見当', 'pos': '名詞', 'pos1': 'サ変接続'}\n",
      "{'surface': 'が', 'base': 'が', 'pos': '助詞', 'pos1': '格助詞'}\n",
      "{'surface': 'つか', 'base': 'つく', 'pos': '動詞', 'pos1': '自立'}\n",
      "{'surface': 'ぬ', 'base': 'ぬ', 'pos': '助動詞', 'pos1': '*'}\n",
      "-----------------\n",
      "{'surface': '何', 'base': '何', 'pos': '名詞', 'pos1': '代名詞'}\n",
      "{'surface': 'でも', 'base': 'でも', 'pos': '助詞', 'pos1': '副助詞'}\n",
      "{'surface': '薄暗い', 'base': '薄暗い', 'pos': '形容詞', 'pos1': '自立'}\n",
      "{'surface': 'じめじめ', 'base': 'じめじめ', 'pos': '副詞', 'pos1': '一般'}\n",
      "{'surface': 'し', 'base': 'する', 'pos': '動詞', 'pos1': '自立'}\n",
      "{'surface': 'た', 'base': 'た', 'pos': '助動詞', 'pos1': '*'}\n",
      "{'surface': '所', 'base': '所', 'pos': '名詞', 'pos1': '非自立'}\n",
      "{'surface': 'で', 'base': 'で', 'pos': '助詞', 'pos1': '格助詞'}\n",
      "{'surface': 'ニャーニャー', 'base': '*', 'pos': '名詞', 'pos1': '一般'}\n",
      "{'surface': '泣い', 'base': '泣く', 'pos': '動詞', 'pos1': '自立'}\n",
      "{'surface': 'て', 'base': 'て', 'pos': '助詞', 'pos1': '接続助詞'}\n",
      "{'surface': 'いた事', 'base': 'いた事', 'pos': '名詞', 'pos1': '一般'}\n",
      "{'surface': 'だけ', 'base': 'だけ', 'pos': '助詞', 'pos1': '副助詞'}\n",
      "{'surface': 'は', 'base': 'は', 'pos': '助詞', 'pos1': '係助詞'}\n",
      "{'surface': '記憶', 'base': '記憶', 'pos': '名詞', 'pos1': 'サ変接続'}\n",
      "{'surface': 'し', 'base': 'する', 'pos': '動詞', 'pos1': '自立'}\n",
      "{'surface': 'て', 'base': 'て', 'pos': '助詞', 'pos1': '接続助詞'}\n",
      "{'surface': 'いる', 'base': 'いる', 'pos': '動詞', 'pos1': '非自立'}\n"
     ]
    }
   ],
   "source": [
    "for i, sentence in enumerate(load_mecab_gen('neko.txt.mecab')):\n",
    "    print('-----------------')\n",
    "    for item in sentence:\n",
    "        print(item)\n",
    "    if i > 3:\n",
    "        break"
   ]
  },
  {
   "cell_type": "markdown",
   "metadata": {},
   "source": [
    "## 31. 動詞\n",
    "動詞の表層形をすべて抽出せよ．"
   ]
  },
  {
   "cell_type": "code",
   "execution_count": 4,
   "metadata": {},
   "outputs": [
    {
     "name": "stdout",
     "output_type": "stream",
     "text": [
      "動詞の表層形の数: 3892\n"
     ]
    },
    {
     "data": {
      "text/plain": [
       "['与',\n",
       " '帰る',\n",
       " '向き直る',\n",
       " 'ねじる',\n",
       " 'ちゃい',\n",
       " '卸せ',\n",
       " '叱',\n",
       " '頂い',\n",
       " 'はなち',\n",
       " 'よみ',\n",
       " 'まえ',\n",
       " 'おっしゃい',\n",
       " '分捕っ']"
      ]
     },
     "execution_count": 4,
     "metadata": {},
     "output_type": "execute_result"
    }
   ],
   "source": [
    "surfaces = set()\n",
    "for sentence in load_mecab_gen('neko.txt.mecab'):\n",
    "    for item in sentence:\n",
    "        if item['pos'] == '動詞':\n",
    "            surfaces.add(item['surface'])\n",
    "            \n",
    "print(f'動詞の表層形の数: {len(surfaces)}')\n",
    "list(surfaces)[:13]"
   ]
  },
  {
   "cell_type": "markdown",
   "metadata": {},
   "source": [
    "## 32. 動詞の基本形\n",
    "動詞の基本形をすべて抽出せよ．"
   ]
  },
  {
   "cell_type": "code",
   "execution_count": 5,
   "metadata": {},
   "outputs": [
    {
     "name": "stdout",
     "output_type": "stream",
     "text": [
      "動詞の基本形の数: 2298\n"
     ]
    },
    {
     "data": {
      "text/plain": [
       "['拡げる',\n",
       " '帰る',\n",
       " '向き直る',\n",
       " 'ねじる',\n",
       " '倒れる',\n",
       " '手こずる',\n",
       " '忍ぶ',\n",
       " '極め付ける',\n",
       " '押す',\n",
       " 'のめる',\n",
       " '論じる',\n",
       " '出合う',\n",
       " '埋める']"
      ]
     },
     "execution_count": 5,
     "metadata": {},
     "output_type": "execute_result"
    }
   ],
   "source": [
    "bases = set()\n",
    "for sentence in load_mecab_gen('neko.txt.mecab'):\n",
    "    for item in sentence:\n",
    "        if item['pos'] == '動詞':\n",
    "            bases.add(item['base'])\n",
    "            \n",
    "print(f'動詞の基本形の数: {len(bases)}')\n",
    "list(bases)[:13]"
   ]
  },
  {
   "cell_type": "markdown",
   "metadata": {},
   "source": [
    "## 33. 「AのB」\n",
    "2つの名詞が「の」で連結されている名詞句を抽出せよ．"
   ]
  },
  {
   "cell_type": "code",
   "execution_count": 6,
   "metadata": {},
   "outputs": [
    {
     "name": "stdout",
     "output_type": "stream",
     "text": [
      "名詞句の数: 4927\n"
     ]
    },
    {
     "data": {
      "text/plain": [
       "['目の間',\n",
       " '中の人間',\n",
       " '顔の掃除',\n",
       " '自分の代理',\n",
       " '淑女の品性',\n",
       " '自然の傾向',\n",
       " '櫓の上',\n",
       " '君のため',\n",
       " '金田のじいさん',\n",
       " '新道の二絃琴',\n",
       " '新聞の上',\n",
       " '男爵のよう',\n",
       " '自分のもの']"
      ]
     },
     "execution_count": 6,
     "metadata": {},
     "output_type": "execute_result"
    }
   ],
   "source": [
    "noun_phrases = set()\n",
    "for sentence in load_mecab_gen('neko.txt.mecab'):\n",
    "    if len(sentence) >= 3:\n",
    "        for i in range(len(sentence) - 2):\n",
    "            prev, curr, next_ = sentence[i:i+3]\n",
    "            if prev['pos'] == '名詞' and curr['surface'] == 'の' and next_['pos'] == '名詞':\n",
    "                noun_phrases.add(f\"{prev['surface']}{curr['surface']}{next_['surface']}\")\n",
    "                \n",
    "print(f'名詞句の数: {len(noun_phrases)}')\n",
    "list(noun_phrases)[:13]"
   ]
  },
  {
   "cell_type": "markdown",
   "metadata": {},
   "source": [
    "## 34. 名詞の連接\n",
    "名詞の連接（連続して出現する名詞）を最長一致で抽出せよ．"
   ]
  },
  {
   "cell_type": "code",
   "execution_count": 7,
   "metadata": {},
   "outputs": [
    {
     "name": "stdout",
     "output_type": "stream",
     "text": [
      "名詞の連結の数: 4493\n"
     ]
    },
    {
     "data": {
      "text/plain": [
       "['自殺クラブ',\n",
       " '双方共挨拶',\n",
       " '肉食論者',\n",
       " 'なに芸術',\n",
       " '一体君',\n",
       " '金田流',\n",
       " '八百八十八株半',\n",
       " '二叉',\n",
       " 'その後書斎',\n",
       " '本当ら',\n",
       " '二十年来着',\n",
       " '三箇月前',\n",
       " '柔術使']"
      ]
     },
     "execution_count": 7,
     "metadata": {},
     "output_type": "execute_result"
    }
   ],
   "source": [
    "nouns = set()\n",
    "for sentence in load_mecab_gen('neko.txt.mecab'):\n",
    "    items_list = [[]]\n",
    "    for item in sentence:\n",
    "        if item['pos'] == '名詞':\n",
    "            items_list[-1].append(item)\n",
    "        else:\n",
    "            if items_list[-1]:\n",
    "                items_list.append([])\n",
    "    \n",
    "    for items in items_list:\n",
    "        if len(items) > 1:\n",
    "            nouns.add(''.join([item['surface'] for item in items]))\n",
    "\n",
    "print(f'名詞の連結の数: {len(nouns)}')\n",
    "list(nouns)[:13]"
   ]
  },
  {
   "cell_type": "markdown",
   "metadata": {},
   "source": [
    "## 35. 単語の出現頻度\n",
    "文章中に出現する単語とその出現頻度を求め，出現頻度の高い順に並べよ．"
   ]
  },
  {
   "cell_type": "code",
   "execution_count": 8,
   "metadata": {},
   "outputs": [
    {
     "name": "stdout",
     "output_type": "stream",
     "text": [
      "word: の - freq: 9194\n",
      "word: て - freq: 6853\n",
      "word: は - freq: 6422\n",
      "word: に - freq: 6268\n",
      "word: を - freq: 6071\n",
      "word: だ - freq: 5978\n",
      "word: と - freq: 5515\n",
      "word: が - freq: 5339\n",
      "word: た - freq: 4270\n",
      "word: する - freq: 3669\n",
      "word: ない - freq: 3054\n",
      "word: も - freq: 2479\n",
      "word: ある - freq: 2322\n",
      "word: で - freq: 2090\n"
     ]
    }
   ],
   "source": [
    "import re\n",
    "from collections import defaultdict\n",
    "\n",
    "word2freq = defaultdict(int)\n",
    "for sentence in load_mecab_gen('neko.txt.mecab'):\n",
    "    for item in sentence:\n",
    "        if re.search('\\w+', (word := item['base'])):\n",
    "            word2freq[word] += 1\n",
    "        \n",
    "word2freq = dict(sorted(word2freq.items(), key=lambda x: x[1], reverse=True))\n",
    "\n",
    "for i, (word, freq) in enumerate(word2freq.items()):\n",
    "    print(f'word: {word} - freq: {freq}')\n",
    "    if i == 13:\n",
    "        break"
   ]
  },
  {
   "cell_type": "markdown",
   "metadata": {},
   "source": [
    "## 36. 頻度上位10語\n",
    "出現頻度が高い10語とその出現頻度をグラフ（例えば棒グラフなど）で表示せよ．"
   ]
  },
  {
   "cell_type": "code",
   "execution_count": 9,
   "metadata": {},
   "outputs": [
    {
     "data": {
      "image/png": "[encoded data removed]",
      "text/plain": [
       "<Figure size 432x288 with 1 Axes>"
      ]
     },
     "metadata": {
      "needs_background": "light"
     },
     "output_type": "display_data"
    }
   ],
   "source": [
    "import matplotlib\n",
    "import matplotlib.pyplot as plt\n",
    "import numpy as np\n",
    "%matplotlib inline\n",
    "matplotlib.rc('font', family='Noto Sans CJK JP')\n",
    "\n",
    "words, freqs = zip(*list(word2freq.items())[:10])\n",
    "\n",
    "plt.bar(np.array(words), np.array(freqs), width=0.6)\n",
    "for x, y in zip(words, freqs):\n",
    "    plt.text(x, y, y, ha='center', va='bottom')\n",
    "plt.show()"
   ]
  },
  {
   "cell_type": "markdown",
   "metadata": {},
   "source": [
    "## 37. 「猫」と共起頻度の高い上位10語\n",
    "「猫」とよく共起する（共起頻度が高い）10語とその出現頻度をグラフ（例えば棒グラフなど）で表示せよ．"
   ]
  },
  {
   "cell_type": "code",
   "execution_count": 10,
   "metadata": {},
   "outputs": [
    {
     "data": {
      "image/png": "[encoded data removed]",
      "text/plain": [
       "<Figure size 432x288 with 1 Axes>"
      ]
     },
     "metadata": {
      "needs_background": "light"
     },
     "output_type": "display_data"
    }
   ],
   "source": [
    "from collections import defaultdict\n",
    "import matplotlib\n",
    "import matplotlib.pyplot as plt\n",
    "import numpy as np\n",
    "%matplotlib inline\n",
    "matplotlib.rc('font', family='Noto Sans CJK JP')\n",
    "\n",
    "with_cat = defaultdict(int)\n",
    "for sentence in load_mecab_gen('neko.txt.mecab'):\n",
    "    if any(item['base'] == '猫' for item in sentence):\n",
    "        for item in sentence:\n",
    "            if (word := item['base']) != '猫' and re.search('\\w+', word):\n",
    "                with_cat[item['base']] += 1\n",
    "\n",
    "with_cat = dict(sorted(with_cat.items(), key=lambda x: x[1], reverse=True))\n",
    "\n",
    "words, freqs = zip(*list(with_cat.items())[:10])\n",
    "\n",
    "plt.bar(np.array(words), np.array(freqs), width=0.6)\n",
    "for x, y in zip(words, freqs):\n",
    "    plt.text(x, y, y, ha='center', va='bottom')\n",
    "plt.show()"
   ]
  },
  {
   "cell_type": "markdown",
   "metadata": {},
   "source": [
    "## 38. ヒストグラム\n",
    "単語の出現頻度のヒストグラムを描け．ただし，横軸は出現頻度を表し，1から単語の出現頻度の最大値までの線形目盛とする．縦軸はx軸で示される出現頻度となった単語の異なり数（種類数）である．"
   ]
  },
  {
   "cell_type": "code",
   "execution_count": 11,
   "metadata": {},
   "outputs": [
    {
     "data": {
      "image/png": "[encoded data removed]",
      "text/plain": [
       "<Figure size 432x288 with 1 Axes>"
      ]
     },
     "metadata": {
      "needs_background": "light"
     },
     "output_type": "display_data"
    }
   ],
   "source": [
    "import matplotlib.pyplot as plt\n",
    "import numpy as np\n",
    "%matplotlib inline\n",
    "\n",
    "plt.hist(np.array(list(word2freq.values())), bins=50)\n",
    "plt.show()"
   ]
  },
  {
   "cell_type": "markdown",
   "metadata": {},
   "source": [
    "## 39. Zipfの法則\n",
    "単語の出現頻度順位を横軸，その出現頻度を縦軸として，両対数グラフをプロットせよ．"
   ]
  },
  {
   "cell_type": "code",
   "execution_count": 12,
   "metadata": {},
   "outputs": [
    {
     "data": {
      "image/png": "[encoded data removed]",
      "text/plain": [
       "<Figure size 432x288 with 1 Axes>"
      ]
     },
     "metadata": {
      "needs_background": "light"
     },
     "output_type": "display_data"
    }
   ],
   "source": [
    "import matplotlib.pyplot as plt\n",
    "import numpy as np\n",
    "%matplotlib inline\n",
    "\n",
    "x = np.array([i for i, _ in enumerate(word2freq, 1)])\n",
    "y = np.array(list(word2freq.values()))\n",
    "\n",
    "plt.plot(x, y)\n",
    "ax = plt.gca()\n",
    "ax.set_xscale('log')\n",
    "ax.set_yscale('log')\n",
    "plt.show()"
   ]
  },
  {
   "cell_type": "code",
   "execution_count": null,
   "metadata": {},
   "outputs": [],
   "source": []
  }
 ],
 "metadata": {
  "kernelspec": {
   "display_name": "Python 3",
   "language": "python",
   "name": "python3"
  },
  "language_info": {
   "codemirror_mode": {
    "name": "ipython",
    "version": 3
   },
   "file_extension": ".py",
   "mimetype": "text/x-python",
   "name": "python",
   "nbconvert_exporter": "python",
   "pygments_lexer": "ipython3",
   "version": "3.8.5"
  }
 },
 "nbformat": 4,
 "nbformat_minor": 4
}
