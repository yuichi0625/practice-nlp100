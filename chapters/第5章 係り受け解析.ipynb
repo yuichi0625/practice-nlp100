{
 "cells": [
  {
   "cell_type": "markdown",
   "id": "social-fighter",
   "metadata": {},
   "source": [
    "[日本語Wikipedia](https://ja.wikipedia.org/)の「[人工知能](https://ja.wikipedia.org/wiki/%E4%BA%BA%E5%B7%A5%E7%9F%A5%E8%83%BD)」に関する記事からテキスト部分を抜き出したファイルが[ai.ja.zip](https://nlp100.github.io/data/ai.ja.zip)に収録されている． この文章を[CaboCha](https://taku910.github.io/cabocha/)や[KNP](http://nlp.ist.i.kyoto-u.ac.jp/index.php?KNP)等のツールを利用して係り受け解析を行い，その結果をai.ja.txt.parsedというファイルに保存せよ．このファイルを読み込み，以下の問に対応するプログラムを実装せよ．"
   ]
  },
  {
   "cell_type": "code",
   "execution_count": 1,
   "id": "periodic-priority",
   "metadata": {},
   "outputs": [],
   "source": [
    "import CaboCha\n",
    "\n",
    "cp = CaboCha.Parser()\n",
    "with open('ai.ja.txt', encoding='utf-8') as f:\n",
    "    rows = f.read().split('\\n')\n",
    "\n",
    "with open('ai.ja.txt.parsed', 'w', encoding='utf-8') as f:\n",
    "    for row in rows:\n",
    "        if row and row != '人工知能':\n",
    "            for sentence in row.strip().split('。'):\n",
    "                if sentence:\n",
    "                    tree = cp.parse(sentence + '。')\n",
    "                    f.write(tree.toString(CaboCha.FORMAT_LATTICE))"
   ]
  },
  {
   "cell_type": "markdown",
   "id": "mysterious-railway",
   "metadata": {},
   "source": [
    "## 40. 係り受け解析結果の読み込み（形態素）\n",
    "形態素を表すクラスMorphを実装せよ．このクラスは表層形（surface），基本形（base），品詞（pos），品詞細分類1（pos1）をメンバ変数に持つこととする．さらに，係り受け解析の結果（ai.ja.txt.parsed）を読み込み，各文をMorphオブジェクトのリストとして表現し，冒頭の説明文の形態素列を表示せよ．"
   ]
  },
  {
   "cell_type": "code",
   "execution_count": 2,
   "id": "rocky-dress",
   "metadata": {},
   "outputs": [
    {
     "name": "stdout",
     "output_type": "stream",
     "text": [
      "num of sentences: 213\n"
     ]
    },
    {
     "data": {
      "text/plain": [
       "[Morph(surface='おかげ', base='おかげ', pos='名詞', pos1='一般'),\n",
       " Morph(surface='で', base='で', pos='助詞', pos1='格助詞'),\n",
       " Morph(surface='、', base='、', pos='記号', pos1='読点'),\n",
       " Morph(surface='意見', base='意見', pos='名詞', pos1='サ変接続'),\n",
       " Morph(surface='の', base='の', pos='助詞', pos1='連体化'),\n",
       " Morph(surface='違い', base='違い', pos='名詞', pos1='ナイ形容詞語幹'),\n",
       " Morph(surface='は', base='は', pos='助詞', pos1='係助詞'),\n",
       " Morph(surface='明らか', base='明らか', pos='名詞', pos1='形容動詞語幹'),\n",
       " Morph(surface='に', base='に', pos='助詞', pos1='格助詞'),\n",
       " Morph(surface='なっ', base='なる', pos='動詞', pos1='自立'),\n",
       " Morph(surface='た', base='た', pos='助動詞', pos1='*'),\n",
       " Morph(surface='と', base='と', pos='助詞', pos1='格助詞'),\n",
       " Morph(surface='は', base='は', pos='助詞', pos1='係助詞'),\n",
       " Morph(surface='思い', base='思う', pos='動詞', pos1='自立'),\n",
       " Morph(surface='ます', base='ます', pos='助動詞', pos1='*'),\n",
       " Morph(surface='が', base='が', pos='助詞', pos1='接続助詞'),\n",
       " Morph(surface='、', base='、', pos='記号', pos1='読点'),\n",
       " Morph(surface='果たして', base='果たして', pos='副詞', pos1='一般'),\n",
       " Morph(surface='何', base='何', pos='名詞', pos1='代名詞'),\n",
       " Morph(surface='か', base='か', pos='助詞', pos1='副助詞／並立助詞／終助詞'),\n",
       " Morph(surface='決着', base='決着', pos='名詞', pos1='サ変接続'),\n",
       " Morph(surface='が', base='が', pos='助詞', pos1='格助詞'),\n",
       " Morph(surface='つく', base='つく', pos='動詞', pos1='自立'),\n",
       " Morph(surface='の', base='の', pos='名詞', pos1='非自立'),\n",
       " Morph(surface='でしょ', base='です', pos='助動詞', pos1='*'),\n",
       " Morph(surface='う', base='う', pos='助動詞', pos1='*'),\n",
       " Morph(surface='か', base='か', pos='助詞', pos1='副助詞／並立助詞／終助詞'),\n",
       " Morph(surface='？', base='？', pos='記号', pos1='一般'),\n",
       " Morph(surface='」', base='」', pos='記号', pos1='括弧閉'),\n",
       " Morph(surface='と', base='と', pos='助詞', pos1='格助詞'),\n",
       " Morph(surface='発言', base='発言', pos='名詞', pos1='サ変接続'),\n",
       " Morph(surface='し', base='する', pos='動詞', pos1='自立'),\n",
       " Morph(surface='、', base='、', pos='記号', pos1='読点'),\n",
       " Morph(surface='伊勢田', base='伊勢田', pos='名詞', pos1='固有名詞'),\n",
       " Morph(surface='は', base='は', pos='助詞', pos1='係助詞'),\n",
       " Morph(surface='「', base='「', pos='記号', pos1='括弧開'),\n",
       " Morph(surface='決着', base='決着', pos='名詞', pos1='サ変接続'),\n",
       " Morph(surface='は', base='は', pos='助詞', pos1='係助詞'),\n",
       " Morph(surface='つか', base='つく', pos='動詞', pos1='自立'),\n",
       " Morph(surface='ない', base='ない', pos='助動詞', pos1='*'),\n",
       " Morph(surface='でしょ', base='です', pos='助動詞', pos1='*'),\n",
       " Morph(surface='う', base='う', pos='助動詞', pos1='*'),\n",
       " Morph(surface='ね', base='ね', pos='助詞', pos1='終助詞'),\n",
       " Morph(surface='」', base='」', pos='記号', pos1='括弧閉'),\n",
       " Morph(surface='と', base='と', pos='助詞', pos1='格助詞'),\n",
       " Morph(surface='答え', base='答える', pos='動詞', pos1='自立'),\n",
       " Morph(surface='て', base='て', pos='助詞', pos1='接続助詞'),\n",
       " Morph(surface='いる', base='いる', pos='動詞', pos1='非自立'),\n",
       " Morph(surface='。', base='。', pos='記号', pos1='句点')]"
      ]
     },
     "execution_count": 2,
     "metadata": {},
     "output_type": "execute_result"
    }
   ],
   "source": [
    "from dataclasses import dataclass\n",
    "from typing import List\n",
    "\n",
    "\n",
    "@dataclass\n",
    "class Morph:\n",
    "    surface: str\n",
    "    base: str\n",
    "    pos: str\n",
    "    pos1: str\n",
    "\n",
    "\n",
    "with open('ai.ja.txt.parsed', encoding='utf-8') as f:\n",
    "    morphs: List[Morph] = []\n",
    "    morphs_list: List[List[Morph]] = []\n",
    "    for line in iter(f.readline, ''):\n",
    "        if (line := line.rstrip()):\n",
    "            if line == 'EOS':\n",
    "                morphs_list.append(morphs)\n",
    "                morphs = []\n",
    "            elif not line.startswith('*'):\n",
    "                # 表層形\\t品詞,品詞細分類1,品詞細分類2,品詞細分類3,活用形,活用型,原形,読み,発音\n",
    "                surface, feature = line.split('\\t')\n",
    "                # len(feature)==7のものも存在する模様\n",
    "                pos, pos1, _, _, _, _, base, *_ = feature.split(',')\n",
    "                morphs.append(\n",
    "                    Morph(surface=surface, base=base, pos=pos, pos1=pos1))\n",
    "\n",
    "print(f'num of sentences: {len(morphs_list)}')\n",
    "morphs_list[-1]"
   ]
  },
  {
   "cell_type": "markdown",
   "id": "announced-special",
   "metadata": {},
   "source": [
    "## 41. 係り受け解析結果の読み込み（文節・係り受け）\n",
    "40に加えて，文節を表すクラスChunkを実装せよ．このクラスは形態素（Morphオブジェクト）のリスト（morphs），係り先文節インデックス番号（dst），係り元文節インデックス番号のリスト（srcs）をメンバ変数に持つこととする．さらに，入力テキストの係り受け解析結果を読み込み，１文をChunkオブジェクトのリストとして表現し，冒頭の説明文の文節の文字列と係り先を表示せよ．本章の残りの問題では，ここで作ったプログラムを活用せよ．"
   ]
  },
  {
   "cell_type": "code",
   "execution_count": 3,
   "id": "shaped-mainland",
   "metadata": {
    "scrolled": false
   },
   "outputs": [
    {
     "name": "stdout",
     "output_type": "stream",
     "text": [
      "Chunk 0\n",
      "  dst: 3\n",
      "  srcs: []\n",
      "  morph: Morph(surface='おかげ', base='おかげ', pos='名詞', pos1='一般')\n",
      "  morph: Morph(surface='で', base='で', pos='助詞', pos1='格助詞')\n",
      "  morph: Morph(surface='、', base='、', pos='記号', pos1='読点')\n",
      "Chunk 1\n",
      "  dst: 2\n",
      "  srcs: []\n",
      "  morph: Morph(surface='意見', base='意見', pos='名詞', pos1='サ変接続')\n",
      "  morph: Morph(surface='の', base='の', pos='助詞', pos1='連体化')\n",
      "Chunk 2\n",
      "  dst: 3\n",
      "  srcs: [1]\n",
      "  morph: Morph(surface='違い', base='違い', pos='名詞', pos1='ナイ形容詞語幹')\n",
      "  morph: Morph(surface='は', base='は', pos='助詞', pos1='係助詞')\n",
      "Chunk 3\n",
      "  dst: 4\n",
      "  srcs: [0, 2]\n",
      "  morph: Morph(surface='明らか', base='明らか', pos='名詞', pos1='形容動詞語幹')\n",
      "  morph: Morph(surface='に', base='に', pos='助詞', pos1='格助詞')\n",
      "  morph: Morph(surface='なっ', base='なる', pos='動詞', pos1='自立')\n",
      "  morph: Morph(surface='た', base='た', pos='助動詞', pos1='*')\n",
      "  morph: Morph(surface='と', base='と', pos='助詞', pos1='格助詞')\n",
      "  morph: Morph(surface='は', base='は', pos='助詞', pos1='係助詞')\n",
      "Chunk 4\n",
      "  dst: 8\n",
      "  srcs: [3]\n",
      "  morph: Morph(surface='思い', base='思う', pos='動詞', pos1='自立')\n",
      "  morph: Morph(surface='ます', base='ます', pos='助動詞', pos1='*')\n",
      "  morph: Morph(surface='が', base='が', pos='助詞', pos1='接続助詞')\n",
      "  morph: Morph(surface='、', base='、', pos='記号', pos1='読点')\n",
      "Chunk 5\n",
      "  dst: 8\n",
      "  srcs: []\n",
      "  morph: Morph(surface='果たして', base='果たして', pos='副詞', pos1='一般')\n",
      "Chunk 6\n",
      "  dst: 8\n",
      "  srcs: []\n",
      "  morph: Morph(surface='何', base='何', pos='名詞', pos1='代名詞')\n",
      "  morph: Morph(surface='か', base='か', pos='助詞', pos1='副助詞／並立助詞／終助詞')\n",
      "Chunk 7\n",
      "  dst: 8\n",
      "  srcs: []\n",
      "  morph: Morph(surface='決着', base='決着', pos='名詞', pos1='サ変接続')\n",
      "  morph: Morph(surface='が', base='が', pos='助詞', pos1='格助詞')\n",
      "Chunk 8\n",
      "  dst: 9\n",
      "  srcs: [4, 5, 6, 7]\n",
      "  morph: Morph(surface='つく', base='つく', pos='動詞', pos1='自立')\n",
      "  morph: Morph(surface='の', base='の', pos='名詞', pos1='非自立')\n",
      "  morph: Morph(surface='でしょ', base='です', pos='助動詞', pos1='*')\n",
      "  morph: Morph(surface='う', base='う', pos='助動詞', pos1='*')\n",
      "  morph: Morph(surface='か', base='か', pos='助詞', pos1='副助詞／並立助詞／終助詞')\n",
      "  morph: Morph(surface='？', base='？', pos='記号', pos1='一般')\n",
      "  morph: Morph(surface='」', base='」', pos='記号', pos1='括弧閉')\n",
      "  morph: Morph(surface='と', base='と', pos='助詞', pos1='格助詞')\n",
      "Chunk 9\n",
      "  dst: 13\n",
      "  srcs: [8]\n",
      "  morph: Morph(surface='発言', base='発言', pos='名詞', pos1='サ変接続')\n",
      "  morph: Morph(surface='し', base='する', pos='動詞', pos1='自立')\n",
      "  morph: Morph(surface='、', base='、', pos='記号', pos1='読点')\n",
      "Chunk 10\n",
      "  dst: 13\n",
      "  srcs: []\n",
      "  morph: Morph(surface='伊勢田', base='伊勢田', pos='名詞', pos1='固有名詞')\n",
      "  morph: Morph(surface='は', base='は', pos='助詞', pos1='係助詞')\n",
      "Chunk 11\n",
      "  dst: 12\n",
      "  srcs: []\n",
      "  morph: Morph(surface='「', base='「', pos='記号', pos1='括弧開')\n",
      "  morph: Morph(surface='決着', base='決着', pos='名詞', pos1='サ変接続')\n",
      "  morph: Morph(surface='は', base='は', pos='助詞', pos1='係助詞')\n",
      "Chunk 12\n",
      "  dst: 13\n",
      "  srcs: [11]\n",
      "  morph: Morph(surface='つか', base='つく', pos='動詞', pos1='自立')\n",
      "  morph: Morph(surface='ない', base='ない', pos='助動詞', pos1='*')\n",
      "  morph: Morph(surface='でしょ', base='です', pos='助動詞', pos1='*')\n",
      "  morph: Morph(surface='う', base='う', pos='助動詞', pos1='*')\n",
      "  morph: Morph(surface='ね', base='ね', pos='助詞', pos1='終助詞')\n",
      "  morph: Morph(surface='」', base='」', pos='記号', pos1='括弧閉')\n",
      "  morph: Morph(surface='と', base='と', pos='助詞', pos1='格助詞')\n",
      "Chunk 13\n",
      "  dst: -1\n",
      "  srcs: [9, 10, 12]\n",
      "  morph: Morph(surface='答え', base='答える', pos='動詞', pos1='自立')\n",
      "  morph: Morph(surface='て', base='て', pos='助詞', pos1='接続助詞')\n",
      "  morph: Morph(surface='いる', base='いる', pos='動詞', pos1='非自立')\n",
      "  morph: Morph(surface='。', base='。', pos='記号', pos1='句点')\n"
     ]
    }
   ],
   "source": [
    "from collections import defaultdict\n",
    "from dataclasses import dataclass\n",
    "from typing import DefaultDict, List\n",
    "\n",
    "\n",
    "@dataclass\n",
    "class Chunk:\n",
    "    morphs: List[Morph]\n",
    "    dst: int\n",
    "    srcs: List[int]\n",
    "\n",
    "\n",
    "with open('ai.ja.txt.parsed', encoding='utf-8') as f:\n",
    "    chunks_list: List[List[Chunk]] = []\n",
    "    morphs_list: List[List[Morph]] = []\n",
    "    dsts: List[int] = []\n",
    "    chunk_num2srcs: DefaultDict[int, List[int]] = defaultdict(list)\n",
    "    for line in iter(f.readline, ''):\n",
    "        if (line := line.rstrip()):\n",
    "            if line.startswith('*'):\n",
    "                # * 文節番号 かかり先の文節番号 主辞/機能語の位置 係り関係のスコア\n",
    "                _, chunk_num, dst, *_ = line.split(' ')\n",
    "                chunk_num, dst = int(chunk_num), int(dst[:-1])\n",
    "                morphs_list.append([])\n",
    "                dsts.append(dst)\n",
    "                chunk_num2srcs[dst].append(chunk_num)\n",
    "            elif line == 'EOS':\n",
    "                chunks_list.append([\n",
    "                    Chunk(morphs=morphs,\n",
    "                          dst=dst,\n",
    "                          srcs=chunk_num2srcs.get(i, []))\n",
    "                    for i, (morphs, dst) in enumerate(zip(morphs_list, dsts))\n",
    "                ])\n",
    "                morphs_list, dsts, chunk_num2srcs = [], [], defaultdict(list)\n",
    "            else:\n",
    "                # 表層形\\t品詞,品詞細分類1,品詞細分類2,品詞細分類3,活用形,活用型,原形,読み,発音\n",
    "                surface, feature = line.split('\\t')\n",
    "                # len(feature)==7のものも存在する模様\n",
    "                pos, pos1, _, _, _, _, base, *_ = feature.split(',')\n",
    "                morphs_list[-1].append(\n",
    "                    Morph(surface=surface, base=base, pos=pos, pos1=pos1))\n",
    "\n",
    "for i, chunk in enumerate(chunks_list[-1]):\n",
    "    print(f'Chunk {i}')\n",
    "    print(f'  dst: {chunk.dst}')\n",
    "    print(f'  srcs: {chunk.srcs}')\n",
    "    for morph in chunk.morphs:\n",
    "        print(f'  morph: {morph}')"
   ]
  },
  {
   "cell_type": "markdown",
   "id": "twelve-evening",
   "metadata": {},
   "source": [
    "## 42. 係り元と係り先の文節の表示\n",
    "係り元の文節と係り先の文節のテキストをタブ区切り形式ですべて抽出せよ．ただし，句読点などの記号は出力しないようにせよ．"
   ]
  },
  {
   "cell_type": "code",
   "execution_count": 4,
   "id": "serial-portal",
   "metadata": {},
   "outputs": [
    {
     "name": "stdout",
     "output_type": "stream",
     "text": [
      "Chunk 0\n",
      "  係り元の文節: \n",
      "  　当該の文節: おかげで\n",
      "  係り先の文節: 明らかになったとは\n",
      "Chunk 1\n",
      "  係り元の文節: \n",
      "  　当該の文節: 意見の\n",
      "  係り先の文節: 違いは\n",
      "Chunk 2\n",
      "  係り元の文節: 意見の\n",
      "  　当該の文節: 違いは\n",
      "  係り先の文節: 明らかになったとは\n",
      "Chunk 3\n",
      "  係り元の文節: おかげで\t違いは\n",
      "  　当該の文節: 明らかになったとは\n",
      "  係り先の文節: 思いますが\n",
      "Chunk 4\n",
      "  係り元の文節: 明らかになったとは\n",
      "  　当該の文節: 思いますが\n",
      "  係り先の文節: つくのでしょうかと\n",
      "Chunk 5\n",
      "  係り元の文節: \n",
      "  　当該の文節: 果たして\n",
      "  係り先の文節: つくのでしょうかと\n",
      "Chunk 6\n",
      "  係り元の文節: \n",
      "  　当該の文節: 何か\n",
      "  係り先の文節: つくのでしょうかと\n",
      "Chunk 7\n",
      "  係り元の文節: \n",
      "  　当該の文節: 決着が\n",
      "  係り先の文節: つくのでしょうかと\n",
      "Chunk 8\n",
      "  係り元の文節: 思いますが\t果たして\t何か\t決着が\n",
      "  　当該の文節: つくのでしょうかと\n",
      "  係り先の文節: 発言し\n",
      "Chunk 9\n",
      "  係り元の文節: つくのでしょうかと\n",
      "  　当該の文節: 発言し\n",
      "  係り先の文節: 答えている\n",
      "Chunk 10\n",
      "  係り元の文節: \n",
      "  　当該の文節: 伊勢田は\n",
      "  係り先の文節: 答えている\n",
      "Chunk 11\n",
      "  係り元の文節: \n",
      "  　当該の文節: 決着は\n",
      "  係り先の文節: つかないでしょうねと\n",
      "Chunk 12\n",
      "  係り元の文節: 決着は\n",
      "  　当該の文節: つかないでしょうねと\n",
      "  係り先の文節: 答えている\n",
      "Chunk 13\n",
      "  係り元の文節: 発言し\t伊勢田は\tつかないでしょうねと\n",
      "  　当該の文節: 答えている\n",
      "  係り先の文節: \n"
     ]
    }
   ],
   "source": [
    "def convert_chunk2surface(chunk: Chunk) -> str:\n",
    "    return ''.join(\n",
    "        [morph.surface for morph in chunk.morphs if morph.pos != '記号'])\n",
    "\n",
    "\n",
    "results = []\n",
    "for chunks in chunks_list:\n",
    "    result = []\n",
    "    for chunk in chunks:\n",
    "        self = convert_chunk2surface(chunk)\n",
    "        src = '\\t'.join(\n",
    "            [convert_chunk2surface(chunks[src_idx]) for src_idx in chunk.srcs])\n",
    "        dst = convert_chunk2surface(\n",
    "            chunks[chunk.dst]) if chunk.dst != -1 else ''\n",
    "        result.append((self, src, dst))\n",
    "    results.append(result)\n",
    "\n",
    "for i, (self, src, dst) in enumerate(results[-1]):\n",
    "    print(f'Chunk {i}')\n",
    "    print(f'  係り元の文節: {src}')\n",
    "    print(f'  　当該の文節: {self}')\n",
    "    print(f'  係り先の文節: {dst}')"
   ]
  },
  {
   "cell_type": "markdown",
   "id": "coastal-footwear",
   "metadata": {},
   "source": [
    "## 43. 名詞を含む文節が動詞を含む文節に係るものを抽出\n",
    "名詞を含む文節が，動詞を含む文節に係るとき，これらをタブ区切り形式で抽出せよ．ただし，句読点などの記号は出力しないようにせよ．"
   ]
  },
  {
   "cell_type": "code",
   "execution_count": 5,
   "id": "running-watts",
   "metadata": {
    "scrolled": false
   },
   "outputs": [
    {
     "name": "stdout",
     "output_type": "stream",
     "text": [
      "須藤は -> 行ってきました\n",
      "これまで -> 行ってきました\n",
      "長時間 -> 行ってきました\n",
      "議論を -> 行ってきました\n",
      "おかげで -> 明らかになったとは\n",
      "違いは -> 明らかになったとは\n",
      "明らかになったとは -> 思いますが\n",
      "何か -> つくのでしょうかと\n",
      "決着が -> つくのでしょうかと\n",
      "つくのでしょうかと -> 発言し\n",
      "発言し -> 答えている\n",
      "伊勢田は -> 答えている\n",
      "決着は -> つかないでしょうねと\n"
     ]
    }
   ],
   "source": [
    "def convert_chunk2surface(chunk: Chunk) -> str:\n",
    "    return ''.join(\n",
    "        [morph.surface for morph in chunk.morphs if morph.pos != '記号'])\n",
    "\n",
    "\n",
    "results = []\n",
    "for chunks in chunks_list:\n",
    "    for chunk in chunks:\n",
    "        has_noun = any([morph.pos == '名詞' for morph in chunk.morphs])\n",
    "        has_verb = any([\n",
    "            morph.pos == '動詞' for morph in chunks[chunk.dst].morphs\n",
    "        ]) if chunk.dst != -1 else False\n",
    "        if has_noun and has_verb:\n",
    "            self = convert_chunk2surface(chunk)\n",
    "            dst = convert_chunk2surface(chunks[chunk.dst])\n",
    "            results.append(f'{self} -> {dst}')\n",
    "\n",
    "for r in results[-13:]:\n",
    "    print(r)"
   ]
  },
  {
   "cell_type": "markdown",
   "id": "floppy-emergency",
   "metadata": {},
   "source": [
    "## 44. 係り受け木の可視化\n",
    "与えられた文の係り受け木を有向グラフとして可視化せよ．可視化には，[Graphviz](http://www.graphviz.org/)等を用いるとよい．"
   ]
  },
  {
   "cell_type": "code",
   "execution_count": 6,
   "id": "above-edmonton",
   "metadata": {
    "scrolled": true
   },
   "outputs": [
    {
     "data": {
      "image/png": "[encoded data removed]",
      "text/plain": [
       "<Figure size 504x504 with 1 Axes>"
      ]
     },
     "metadata": {
      "needs_background": "light"
     },
     "output_type": "display_data"
    }
   ],
   "source": [
    "import pydot\n",
    "from matplotlib import pyplot as plt\n",
    "%matplotlib inline\n",
    "\n",
    "\n",
    "def convert_chunk2surface(chunk: Chunk) -> str:\n",
    "    return ''.join(\n",
    "        [morph.surface for morph in chunk.morphs if morph.pos != '記号'])\n",
    "\n",
    "\n",
    "G = pydot.Dot()\n",
    "\n",
    "for chunk in (chunks := chunks_list[-1]):\n",
    "    if chunk.dst != -1:\n",
    "        self = convert_chunk2surface(chunk)\n",
    "        dst = convert_chunk2surface(chunks[chunk.dst])\n",
    "        G.add_edge(pydot.Edge(self, dst))\n",
    "\n",
    "G.write_png('dependency.png')\n",
    "\n",
    "img = plt.imread('dependency.png')\n",
    "plt.figure(figsize=(7, 7))\n",
    "plt.imshow(img)\n",
    "plt.show()"
   ]
  },
  {
   "cell_type": "markdown",
   "id": "stopped-reader",
   "metadata": {},
   "source": [
    "## 45. 動詞の格パターンの抽出\n",
    "今回用いている文章をコーパスと見なし，日本語の述語が取りうる格を調査したい． 動詞を述語，動詞に係っている文節の助詞を格と考え，述語と格をタブ区切り形式で出力せよ． ただし，出力は以下の仕様を満たすようにせよ．\n",
    "- 動詞を含む文節において，最左の動詞の基本形を述語とする\n",
    "- 述語に係る助詞を格とする\n",
    "- 述語に係る助詞（文節）が複数あるときは，すべての助詞をスペース区切りで辞書順に並べる\n",
    "\n",
    "「ジョン・マッカーシーはAIに関する最初の会議で人工知能という用語を作り出した。」という例文を考える． この文は「作り出す」という１つの動詞を含み，「作り出す」に係る文節は「ジョン・マッカーシーは」，「会議で」，「用語を」であると解析された場合は，次のような出力になるはずである．\n",
    "```\n",
    "作り出す\tで は を\n",
    "```\n",
    "\n",
    "このプログラムの出力をファイルに保存し，以下の事項をUNIXコマンドを用いて確認せよ．\n",
    "- コーパス中で頻出する述語と格パターンの組み合わせ\n",
    "- 「行う」「なる」「与える」という動詞の格パターン（コーパス中で出現頻度の高い順に並べよ）"
   ]
  },
  {
   "cell_type": "code",
   "execution_count": 7,
   "id": "sought-partner",
   "metadata": {},
   "outputs": [
    {
     "name": "stdout",
     "output_type": "stream",
     "text": [
      "する\tは と\n",
      "しれる\tは\n",
      "述べる\tは と\n",
      "行う\tで は まで を\n",
      "なる\tで は\n",
      "思う\tは\n",
      "つく\tが か が\n",
      "する\tと\n",
      "つく\tは\n",
      "答える\tは と\n"
     ]
    }
   ],
   "source": [
    "case_patterns = []\n",
    "for chunks in chunks_list:\n",
    "    for chunk in chunks:\n",
    "        if (verbs :=\n",
    "            [morph.base for morph in chunk.morphs if morph.pos == '動詞']):\n",
    "            verb = verbs[0]\n",
    "            particles = []\n",
    "            for src in chunk.srcs:\n",
    "                for morph in chunks[src].morphs[::-1]:\n",
    "                    if morph.pos != '記号':\n",
    "                        if morph.pos == '助詞':\n",
    "                            particles.append(morph.base)\n",
    "                        break\n",
    "            if particles:\n",
    "                case_patterns.append(verb + '\\t' + ' '.join(particles))\n",
    "\n",
    "with open('case_patterns.txt', 'w', encoding='utf-8') as f:\n",
    "    f.write('\\n'.join(case_patterns))\n",
    "\n",
    "for cp in case_patterns[-10:]:\n",
    "    print(cp)"
   ]
  },
  {
   "cell_type": "code",
   "execution_count": 8,
   "id": "charming-senator",
   "metadata": {
    "scrolled": true
   },
   "outputs": [
    {
     "name": "stdout",
     "output_type": "stream",
     "text": [
      "     53 する\tを\r\n",
      "     19 する\tと\r\n",
      "     17 する\tが\r\n",
      "     15 する\tに\r\n",
      "     11 よる\tに\r\n",
      "     11 する\tは を\r\n",
      "      9 行う\tを\r\n",
      "      9 する\tは と\r\n",
      "      7 する\tを に\r\n",
      "      6 基づく\tに\r\n",
      "      6 呼ぶ\tと\r\n"
     ]
    }
   ],
   "source": [
    "!cat case_patterns.txt | sort | uniq -c | sort -r | head -n 11"
   ]
  },
  {
   "cell_type": "code",
   "execution_count": 9,
   "id": "small-perfume",
   "metadata": {
    "scrolled": true
   },
   "outputs": [
    {
     "name": "stdout",
     "output_type": "stream",
     "text": [
      "      9 行う\tを\r\n",
      "      1 行う\tを に を\r\n",
      "      1 行う\tまで を に\r\n",
      "      1 行う\tは を をめぐって\r\n",
      "      1 行う\tは を\r\n"
     ]
    }
   ],
   "source": [
    "!grep '行う' case_patterns.txt | sort | uniq -c | sort -r | head -n 5"
   ]
  },
  {
   "cell_type": "code",
   "execution_count": 10,
   "id": "scenic-kidney",
   "metadata": {},
   "outputs": [
    {
     "name": "stdout",
     "output_type": "stream",
     "text": [
      "      3 なる\tは に\r\n",
      "      3 なる\tが と\r\n",
      "      2 なる\tは も\r\n",
      "      2 なる\tに\r\n",
      "      2 なる\tと\r\n"
     ]
    }
   ],
   "source": [
    "!grep 'なる' case_patterns.txt | sort | uniq -c | sort -r | head -n 5"
   ]
  },
  {
   "cell_type": "code",
   "execution_count": 11,
   "id": "featured-outreach",
   "metadata": {},
   "outputs": [
    {
     "name": "stdout",
     "output_type": "stream",
     "text": [
      "      2 与える\tが に\r\n",
      "      1 与える\tは に を\r\n"
     ]
    }
   ],
   "source": [
    "!grep '与える' case_patterns.txt | sort | uniq -c | sort -r"
   ]
  },
  {
   "cell_type": "markdown",
   "id": "objective-operation",
   "metadata": {},
   "source": [
    "## 46. 動詞の格フレーム情報の抽出\n",
    "45のプログラムを改変し，述語と格パターンに続けて項（述語に係っている文節そのもの）をタブ区切り形式で出力せよ．45の仕様に加えて，以下の仕様を満たすようにせよ．\n",
    "- 項は述語に係っている文節の単語列とする（末尾の助詞を取り除く必要はない）\n",
    "- 述語に係る文節が複数あるときは，助詞と同一の基準・順序でスペース区切りで並べる\n",
    "\n",
    "「ジョン・マッカーシーはAIに関する最初の会議で人工知能という用語を作り出した。」という例文を考える． この文は「作り出す」という１つの動詞を含み，「作り出す」に係る文節は「ジョン・マッカーシーは」，「会議で」，「用語を」であると解析された場合は，次のような出力になるはずである．\n",
    "```\n",
    "作り出す\tで は を\t会議で ジョンマッカーシーは 用語を\n",
    "```"
   ]
  },
  {
   "cell_type": "code",
   "execution_count": 12,
   "id": "peaceful-sphere",
   "metadata": {},
   "outputs": [
    {
     "name": "stdout",
     "output_type": "stream",
     "text": [
      "する\tは と\t須藤は 確かでしょうと\n",
      "しれる\tは\t違いというのは\n",
      "述べる\tは と\t伊勢田は 大きいのかもしれませんと\n",
      "行う\tで は まで を\t対談で 須藤は これまで 議論を\n",
      "なる\tで は\tおかげで 違いは\n",
      "思う\tは\t明らかになったとは\n",
      "つく\tが か が\t思いますが 何か 決着が\n",
      "する\tと\tつくのでしょうかと\n",
      "つく\tは\t決着は\n",
      "答える\tは と\t伊勢田は つかないでしょうねと\n"
     ]
    }
   ],
   "source": [
    "def convert_chunk2surface(chunk: Chunk) -> str:\n",
    "    return ''.join(\n",
    "        [morph.surface for morph in chunk.morphs if morph.pos != '記号'])\n",
    "\n",
    "\n",
    "case_patterns = []\n",
    "for chunks in chunks_list:\n",
    "    for chunk in chunks:\n",
    "        if (verbs :=\n",
    "            [morph.base for morph in chunk.morphs if morph.pos == '動詞']):\n",
    "            verb = verbs[0]\n",
    "            particles = []\n",
    "            frames = []\n",
    "            for src in chunk.srcs:\n",
    "                for morph in chunks[src].morphs[::-1]:\n",
    "                    if morph.pos != '記号':\n",
    "                        if morph.pos == '助詞':\n",
    "                            particles.append(morph.base)\n",
    "                            frames.append(convert_chunk2surface(chunks[src]))\n",
    "                        break\n",
    "            if particles:\n",
    "                case_patterns.append(verb + '\\t' + ' '.join(particles) + '\\t' +\n",
    "                                     ' '.join(frames))\n",
    "\n",
    "for cp in case_patterns[-10:]:\n",
    "    print(cp)"
   ]
  },
  {
   "cell_type": "markdown",
   "id": "physical-frost",
   "metadata": {},
   "source": [
    "## 47. 機能動詞構文のマイニング\n",
    "動詞のヲ格にサ変接続名詞が入っている場合のみに着目したい．46のプログラムを以下の仕様を満たすように改変せよ．\n",
    "- 「サ変接続名詞+を（助詞）」で構成される文節が動詞に係る場合のみを対象とする\n",
    "- 述語は「サ変接続名詞+を+動詞の基本形」とし，文節中に複数の動詞があるときは，最左の動詞を用いる\n",
    "- 述語に係る助詞（文節）が複数あるときは，すべての助詞をスペース区切りで辞書順に並べる\n",
    "- 述語に係る文節が複数ある場合は，すべての項をスペース区切りで並べる（助詞の並び順と揃えよ）\n",
    "\n",
    "例えば「また、自らの経験を元に学習を行う強化学習という手法もある。」という文から，以下の出力が得られるはずである．\n",
    "```\n",
    "学習を行う\tに を\t元に 経験を\n",
    "```"
   ]
  },
  {
   "cell_type": "code",
   "execution_count": 13,
   "id": "demonstrated-sweet",
   "metadata": {},
   "outputs": [
    {
     "name": "stdout",
     "output_type": "stream",
     "text": [
      "展開を変える\tの\t部隊の\n",
      "判断を介す\tの\t人間の\n",
      "禁止を求める\tの\t自動操縦型武器の\n",
      "運用をめぐる\tの\tAI兵器の\n",
      "記録をする\tの\t米軍の\n",
      "試験を行う\tの\t世界最大規模の\n",
      "共同研究をする\tと の\t教育機関と AIの\n",
      "解散をする\tの\t委員会の\n",
      "実現をする\tの\tGodheadの\n",
      "話をする\tの\t異界の\n"
     ]
    }
   ],
   "source": [
    "def convert_chunk2surface(chunk: Chunk) -> str:\n",
    "    return ''.join(\n",
    "        [morph.surface for morph in chunk.morphs if morph.pos != '記号'])\n",
    "\n",
    "\n",
    "case_patterns = []\n",
    "for chunks in chunks_list:\n",
    "    for chunk in chunks:\n",
    "        if (verbs :=\n",
    "            [morph.base for morph in chunk.morphs if morph.pos == '動詞']):\n",
    "            verb = verbs[0]\n",
    "            for src in chunk.srcs:\n",
    "                if len(\n",
    "                    (morphs := chunks[src].morphs)\n",
    "                ) == 2 and morphs[0].pos1 == 'サ変接続' and morphs[1].base == 'を':\n",
    "                    verb = morphs[0].base + morphs[1].base + verb\n",
    "                    particles = []\n",
    "                    frames = []\n",
    "                    for sub_src in chunks[src].srcs:\n",
    "                        for morph in chunks[sub_src].morphs[::-1]:\n",
    "                            if morph.pos != '記号':\n",
    "                                if morph.pos == '助詞':\n",
    "                                    particles.append(morph.base)\n",
    "                                    frames.append(\n",
    "                                        convert_chunk2surface(chunks[sub_src]))\n",
    "                                break\n",
    "                    if particles:\n",
    "                        case_patterns.append(verb + '\\t' +\n",
    "                                             ' '.join(particles) + '\\t' +\n",
    "                                             ' '.join(frames))\n",
    "\n",
    "for cp in case_patterns[-10:]:\n",
    "    print(cp)"
   ]
  },
  {
   "cell_type": "markdown",
   "id": "educational-frequency",
   "metadata": {},
   "source": [
    "## 48. 名詞から根へのパスの抽出\n",
    "文中のすべての名詞を含む文節に対し，その文節から構文木の根に至るパスを抽出せよ． ただし，構文木上のパスは以下の仕様を満たすものとする．\n",
    "- 各文節は（表層形の）形態素列で表現する\n",
    "- パスの開始文節から終了文節に至るまで，各文節の表現を” -> “で連結する\n",
    "\n",
    "「ジョン・マッカーシーはAIに関する最初の会議で人工知能という用語を作り出した。」という例文を考える． CaboChaを係り受け解析に用いた場合，次のような出力が得られると思われる．\n",
    "```\n",
    "ジョンマッカーシーは -> 作り出した\n",
    "AIに関する -> 最初の -> 会議で -> 作り出した\n",
    "最初の -> 会議で -> 作り出した\n",
    "会議で -> 作り出した\n",
    "人工知能という -> 用語を -> 作り出した\n",
    "用語を -> 作り出した\n",
    "```\n",
    "\n",
    "KNPを係り受け解析に用いた場合，次のような出力が得られると思われる．\n",
    "```\n",
    "ジョンマッカーシーは -> 作り出した\n",
    "ＡＩに -> 関する -> 会議で -> 作り出した\n",
    "会議で -> 作り出した\n",
    "人工知能と -> いう -> 用語を -> 作り出した\n",
    "用語を -> 作り出した\n",
    "```"
   ]
  },
  {
   "cell_type": "code",
   "execution_count": 14,
   "id": "environmental-designation",
   "metadata": {},
   "outputs": [
    {
     "name": "stdout",
     "output_type": "stream",
     "text": [
      "おかげで -> 明らかになったとは -> 思いますが -> つくのでしょうかと -> 発言し -> 答えている\n",
      "意見の -> 違いは -> 明らかになったとは -> 思いますが -> つくのでしょうかと -> 発言し -> 答えている\n",
      "違いは -> 明らかになったとは -> 思いますが -> つくのでしょうかと -> 発言し -> 答えている\n",
      "明らかになったとは -> 思いますが -> つくのでしょうかと -> 発言し -> 答えている\n",
      "何か -> つくのでしょうかと -> 発言し -> 答えている\n",
      "決着が -> つくのでしょうかと -> 発言し -> 答えている\n",
      "つくのでしょうかと -> 発言し -> 答えている\n",
      "発言し -> 答えている\n",
      "伊勢田は -> 答えている\n",
      "決着は -> つかないでしょうねと -> 答えている\n"
     ]
    }
   ],
   "source": [
    "def convert_chunk2surface(chunk: Chunk) -> str:\n",
    "    return ''.join(\n",
    "        [morph.surface for morph in chunk.morphs if morph.pos != '記号'])\n",
    "\n",
    "\n",
    "results = []\n",
    "for chunks in chunks_list:\n",
    "    for chunk in chunks:\n",
    "        if any(morph.pos == '名詞' for morph in chunk.morphs):\n",
    "            paths = [convert_chunk2surface(chunk)]\n",
    "            while True:\n",
    "                chunk = chunks[chunk.dst]\n",
    "                paths.append(convert_chunk2surface(chunk))\n",
    "                if chunk.dst == -1:\n",
    "                    break\n",
    "            results.append(' -> '.join(paths))\n",
    "\n",
    "for r in results[-10:]:\n",
    "    print(r)"
   ]
  },
  {
   "cell_type": "markdown",
   "id": "current-sessions",
   "metadata": {},
   "source": [
    "## 49. 名詞間の係り受けパスの抽出\n",
    "文中のすべての名詞句のペアを結ぶ最短係り受けパスを抽出せよ．ただし，名詞句ペアの文節番号がiとj（i<j）のとき，係り受けパスは以下の仕様を満たすものとする．\n",
    "- 問題48と同様に，パスは開始文節から終了文節に至るまでの各文節の表現（表層形の形態素列）を” -> “で連結して表現する\n",
    "- 文節iとjに含まれる名詞句はそれぞれ，XとYに置換する\n",
    "\n",
    "また，係り受けパスの形状は，以下の2通りが考えられる．\n",
    "- 文節iから構文木の根に至る経路上に文節jが存在する場合: 文節iから文節jのパスを表示\n",
    "- 上記以外で，文節iと文節jから構文木の根に至る経路上で共通の文節kで交わる場合: 文節iから文節kに至る直前のパスと文節jから文節kに至る直前までのパス，文節kの内容を” | “で連結して表示\n",
    "\n",
    "「ジョン・マッカーシーはAIに関する最初の会議で人工知能という用語を作り出した。」という例文を考える． CaboChaを係り受け解析に用いた場合，次のような出力が得られると思われる．\n",
    "```\n",
    "Xは | Yに関する -> 最初の -> 会議で | 作り出した\n",
    "Xは | Yの -> 会議で | 作り出した\n",
    "Xは | Yで | 作り出した\n",
    "Xは | Yという -> 用語を | 作り出した\n",
    "Xは | Yを | 作り出した\n",
    "Xに関する -> Yの\n",
    "Xに関する -> 最初の -> Yで\n",
    "Xに関する -> 最初の -> 会議で | Yという -> 用語を | 作り出した\n",
    "Xに関する -> 最初の -> 会議で | Yを | 作り出した\n",
    "Xの -> Yで\n",
    "Xの -> 会議で | Yという -> 用語を | 作り出した\n",
    "Xの -> 会議で | Yを | 作り出した\n",
    "Xで | Yという -> 用語を | 作り出した\n",
    "Xで | Yを | 作り出した\n",
    "Xという -> Yを\n",
    "```\n",
    "\n",
    "KNPを係り受け解析に用いた場合，次のような出力が得られると思われる．\n",
    "```\n",
    "Xは | Yに -> 関する -> 会議で | 作り出した。\n",
    "Xは | Yで | 作り出した。\n",
    "Xは | Yと -> いう -> 用語を | 作り出した。\n",
    "Xは | Yを | 作り出した。\n",
    "Xに -> 関する -> Yで\n",
    "Xに -> 関する -> 会議で | Yと -> いう -> 用語を | 作り出した。\n",
    "Xに -> 関する -> 会議で | Yを | 作り出した。\n",
    "Xで | Yと -> いう -> 用語を | 作り出した。\n",
    "Xで | Yを | 作り出した。\n",
    "Xと -> いう -> Yを\n",
    "```"
   ]
  },
  {
   "cell_type": "code",
   "execution_count": null,
   "id": "presidential-vintage",
   "metadata": {},
   "outputs": [],
   "source": []
  }
 ],
 "metadata": {
  "kernelspec": {
   "display_name": "Python 3",
   "language": "python",
   "name": "python3"
  },
  "language_info": {
   "codemirror_mode": {
    "name": "ipython",
    "version": 3
   },
   "file_extension": ".py",
   "mimetype": "text/x-python",
   "name": "python",
   "nbconvert_exporter": "python",
   "pygments_lexer": "ipython3",
   "version": "3.8.7"
  }
 },
 "nbformat": 4,
 "nbformat_minor": 5
}
