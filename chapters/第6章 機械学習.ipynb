{
 "cells": [
  {
   "cell_type": "markdown",
   "id": "coated-planet",
   "metadata": {},
   "source": [
    "本章では，Fabio Gasparetti氏が公開している[News Aggregator Data Set](https://archive.ics.uci.edu/ml/datasets/News+Aggregator)を用い，ニュース記事の見出しを「ビジネス」「科学技術」「エンターテイメント」「健康」のカテゴリに分類するタスク（カテゴリ分類）に取り組む．"
   ]
  },
  {
   "cell_type": "markdown",
   "id": "atlantic-harbor",
   "metadata": {},
   "source": [
    "## 50. データの入手・整形\n",
    "[News Aggregator Data Set](https://archive.ics.uci.edu/ml/datasets/News+Aggregator)をダウンロードし、以下の要領で学習データ（train.txt），検証データ（valid.txt），評価データ（test.txt）を作成せよ．\n",
    "1. ダウンロードしたzipファイルを解凍し，readme.txtの説明を読む．\n",
    "1. 情報源（publisher）が”Reuters”, “Huffington Post”, “Businessweek”, “Contactmusic.com”, “Daily Mail”の事例（記事）のみを抽出する．\n",
    "1. 抽出された事例をランダムに並び替える．\n",
    "1. 抽出された事例の80%を学習データ，残りの10%ずつを検証データと評価データに分割し，それぞれtrain.txt，valid.txt，test.txtというファイル名で保存する．ファイルには，１行に１事例を書き出すこととし，カテゴリ名と記事見出しのタブ区切り形式とせよ（このファイルは後に問題70で再利用する）．\n",
    "\n",
    "学習データと評価データを作成したら，各カテゴリの事例数を確認せよ．"
   ]
  },
  {
   "cell_type": "code",
   "execution_count": 1,
   "id": "potential-tuition",
   "metadata": {},
   "outputs": [
    {
     "name": "stdout",
     "output_type": "stream",
     "text": [
      "train.txt\n",
      "  length : 10672\n",
      "  example: 2\tHow Kevin Costner Is Spending The 'Field Of Dreams' Anniversary\n",
      "valid.txt\n",
      "  length : 1334\n",
      "  example: 2\tAndrew Garfield - Andrew Garfield's fatherly fears\n",
      "test.txt\n",
      "  length : 1344\n",
      "  example: 3\tUPDATE 2-Peace Corps pulls volunteers from West Africa due to Ebola\n"
     ]
    }
   ],
   "source": [
    "import re\n",
    "import pandas as pd\n",
    "from sklearn.model_selection import train_test_split\n",
    "seed = 42\n",
    "\n",
    "df = pd.read_table('NewsAggregatorDataset/newsCorpora.csv', header=None)\n",
    "df.columns = ['ID', 'TITLE', 'URL', 'PUBLISHER', 'CATEGORY', 'STORY', 'HOSTNAME','TIMESTAMP']\n",
    "\n",
    "df = df.query(\n",
    "    \"PUBLISHER in ['Reuters', 'Huffington Post', 'Businessweek', 'Contactmusic.com', 'Daily Mail']\"\n",
    ")\n",
    "df = df[['CATEGORY', 'TITLE']]\n",
    "df = df.replace({\n",
    "    'CATEGORY': {\n",
    "        'b': 0,\n",
    "        't': 1,\n",
    "        'e': 2,\n",
    "        'm': 3\n",
    "    }\n",
    "})\n",
    "df = df.sample(frac=1, random_state=seed)\n",
    "\n",
    "X = df.copy()\n",
    "y = X['CATEGORY']\n",
    "\n",
    "X_train, X_vt, y_train, y_vt = train_test_split(X, y, test_size=0.2, stratify=y, random_state=seed)\n",
    "X_valid, X_test, y_valid, y_test = train_test_split(X_vt, y_vt, test_size=0.5, stratify=y_vt, random_state=seed)\n",
    "\n",
    "X_train.to_csv('train.txt', encoding='utf-8', sep='\\t', header=False, index=False)\n",
    "X_valid.to_csv('valid.txt', encoding='utf-8', sep='\\t', header=False, index=False)\n",
    "X_test.to_csv('test.txt', encoding='utf-8', sep='\\t', header=False, index=False)\n",
    "\n",
    "\n",
    "def check(path):\n",
    "    with open(path, encoding='utf-8') as f:\n",
    "        rows = f.readlines()\n",
    "    print(path)\n",
    "    print(f'  length : {len(rows)}')\n",
    "    print(f'  example: {rows[0].rstrip()}')\n",
    "\n",
    "\n",
    "check('train.txt')\n",
    "check('valid.txt')\n",
    "check('test.txt')"
   ]
  },
  {
   "cell_type": "markdown",
   "id": "healthy-harassment",
   "metadata": {},
   "source": [
    "## 51. 特徴量抽出\n",
    "学習データ，検証データ，評価データから特徴量を抽出し，それぞれ`train.feature.txt`，`valid.feature.txt`，`test.feature.txt`というファイル名で保存せよ． なお，カテゴリ分類に有用そうな特徴量は各自で自由に設計せよ．記事の見出しを単語列に変換したものが最低限のベースラインとなるであろう．"
   ]
  },
  {
   "cell_type": "code",
   "execution_count": 2,
   "id": "final-bandwidth",
   "metadata": {},
   "outputs": [],
   "source": [
    "import joblib\n",
    "import pandas as pd\n",
    "from sklearn.feature_extraction.text import TfidfVectorizer\n",
    "cols = ['CATEGORY', 'TITLE']\n",
    "\n",
    "train = pd.read_table('train.txt', header=None)\n",
    "valid = pd.read_table('valid.txt', header=None)\n",
    "test = pd.read_table('test.txt', header=None)\n",
    "train.columns = cols\n",
    "valid.columns = cols\n",
    "test.columns = cols\n",
    "\n",
    "vectorizer = TfidfVectorizer()\n",
    "vectorizer.fit(train['TITLE'])\n",
    "joblib.dump(vectorizer.get_feature_names(), 'vocab.joblib')\n",
    "\n",
    "X_train = vectorizer.transform(train['TITLE'])\n",
    "X_valid = vectorizer.transform(valid['TITLE'])\n",
    "X_test = vectorizer.transform(test['TITLE'])\n",
    "\n",
    "train = pd.concat([train, pd.DataFrame(X_train.toarray())], axis=1).drop(cols, axis=1)\n",
    "valid = pd.concat([valid, pd.DataFrame(X_valid.toarray())], axis=1).drop(cols, axis=1)\n",
    "test = pd.concat([test, pd.DataFrame(X_test.toarray())], axis=1).drop(cols, axis=1)\n",
    "\n",
    "train.to_csv('train.feature.txt', sep='\\t', header=False, index=False)\n",
    "valid.to_csv('valid.feature.txt', sep='\\t', header=False, index=False)\n",
    "test.to_csv('test.feature.txt', sep='\\t', header=False, index=False)"
   ]
  },
  {
   "cell_type": "markdown",
   "id": "promotional-stage",
   "metadata": {},
   "source": [
    "## 52. 学習\n",
    "51で構築した学習データを用いて，ロジスティック回帰モデルを学習せよ．"
   ]
  },
  {
   "cell_type": "code",
   "execution_count": 3,
   "id": "portuguese-mexican",
   "metadata": {},
   "outputs": [],
   "source": [
    "import pandas as pd\n",
    "\n",
    "X_train = pd.read_table('train.feature.txt', header=None)\n",
    "y_train = pd.read_table('train.txt', header=None)[0]\n",
    "X_valid = pd.read_table('valid.feature.txt', header=None)\n",
    "y_valid = pd.read_table('valid.txt', header=None)[0]\n",
    "X_test = pd.read_table('test.feature.txt', header=None)\n",
    "y_test = pd.read_table('test.txt', header=None)[0]"
   ]
  },
  {
   "cell_type": "code",
   "execution_count": 4,
   "id": "literary-negative",
   "metadata": {},
   "outputs": [
    {
     "data": {
      "text/plain": [
       "['model.joblib']"
      ]
     },
     "execution_count": 4,
     "metadata": {},
     "output_type": "execute_result"
    }
   ],
   "source": [
    "import joblib\n",
    "from sklearn.linear_model import LogisticRegression\n",
    "seed = 42\n",
    "\n",
    "clf = LogisticRegression(solver='sag', random_state=seed)\n",
    "clf.fit(X_train, y_train)\n",
    "\n",
    "joblib.dump(clf, 'model.joblib')"
   ]
  },
  {
   "cell_type": "markdown",
   "id": "suffering-beast",
   "metadata": {},
   "source": [
    "## 53. 予測\n",
    "52で学習したロジスティック回帰モデルを用い，与えられた記事見出しからカテゴリとその予測確率を計算するプログラムを実装せよ．"
   ]
  },
  {
   "cell_type": "code",
   "execution_count": 5,
   "id": "upper-offering",
   "metadata": {},
   "outputs": [],
   "source": [
    "import joblib\n",
    "\n",
    "\n",
    "class Model:\n",
    "    def __init__(self, clf_path):\n",
    "        self.clf = joblib.load(clf_path)\n",
    "\n",
    "    def predict(self, vector):\n",
    "        return self.clf.predict(vector)\n",
    "\n",
    "\n",
    "model = Model('model.joblib')"
   ]
  },
  {
   "cell_type": "markdown",
   "id": "infrared-lease",
   "metadata": {},
   "source": [
    "## 54. 正解率の計測\n",
    "52で学習したロジスティック回帰モデルの正解率を，学習データおよび評価データ上で計測せよ．"
   ]
  },
  {
   "cell_type": "code",
   "execution_count": 6,
   "id": "artistic-ecology",
   "metadata": {},
   "outputs": [
    {
     "name": "stdout",
     "output_type": "stream",
     "text": [
      "学習データの正解率: 0.9446214392803598\n",
      "評価データの正解率: 0.8853073463268366\n"
     ]
    }
   ],
   "source": [
    "import pandas as pd\n",
    "from sklearn.metrics import accuracy_score\n",
    "\n",
    "preds_train = model.predict(X_train)\n",
    "acc_train = accuracy_score(y_train, preds_train)\n",
    "\n",
    "preds_test = model.predict(X_test)\n",
    "acc_test = accuracy_score(y_test, preds_test)\n",
    "\n",
    "print(f'学習データの正解率: {acc_train}')\n",
    "print(f'評価データの正解率: {acc_test}')"
   ]
  },
  {
   "cell_type": "markdown",
   "id": "illegal-professor",
   "metadata": {},
   "source": [
    "## 55. 混同行列の作成\n",
    "52で学習したロジスティック回帰モデルの混同行列（confusion matrix）を，学習データおよび評価データ上で作成せよ．"
   ]
  },
  {
   "cell_type": "code",
   "execution_count": 7,
   "id": "committed-defensive",
   "metadata": {},
   "outputs": [],
   "source": [
    "import pandas as pd\n",
    "from sklearn.metrics import confusion_matrix\n",
    "\n",
    "preds_train = model.predict(X_train)\n",
    "cm_train = confusion_matrix(y_train, preds_train)\n",
    "\n",
    "preds_test = model.predict(X_test)\n",
    "cm_test = confusion_matrix(y_test, preds_test)"
   ]
  },
  {
   "cell_type": "code",
   "execution_count": 8,
   "id": "quantitative-serial",
   "metadata": {},
   "outputs": [
    {
     "name": "stdout",
     "output_type": "stream",
     "text": [
      "（学習データ）左: 正解ラベル - 上: 推論結果\n"
     ]
    },
    {
     "data": {
      "text/html": [
       "<div>\n",
       "<style scoped>\n",
       "    .dataframe tbody tr th:only-of-type {\n",
       "        vertical-align: middle;\n",
       "    }\n",
       "\n",
       "    .dataframe tbody tr th {\n",
       "        vertical-align: top;\n",
       "    }\n",
       "\n",
       "    .dataframe thead th {\n",
       "        text-align: right;\n",
       "    }\n",
       "</style>\n",
       "<table border=\"1\" class=\"dataframe\">\n",
       "  <thead>\n",
       "    <tr style=\"text-align: right;\">\n",
       "      <th></th>\n",
       "      <th>0</th>\n",
       "      <th>1</th>\n",
       "      <th>2</th>\n",
       "      <th>3</th>\n",
       "    </tr>\n",
       "  </thead>\n",
       "  <tbody>\n",
       "    <tr>\n",
       "      <th>0</th>\n",
       "      <td>4413</td>\n",
       "      <td>35</td>\n",
       "      <td>51</td>\n",
       "      <td>3</td>\n",
       "    </tr>\n",
       "    <tr>\n",
       "      <th>1</th>\n",
       "      <td>154</td>\n",
       "      <td>948</td>\n",
       "      <td>115</td>\n",
       "      <td>2</td>\n",
       "    </tr>\n",
       "    <tr>\n",
       "      <th>2</th>\n",
       "      <td>19</td>\n",
       "      <td>5</td>\n",
       "      <td>4199</td>\n",
       "      <td>0</td>\n",
       "    </tr>\n",
       "    <tr>\n",
       "      <th>3</th>\n",
       "      <td>81</td>\n",
       "      <td>4</td>\n",
       "      <td>122</td>\n",
       "      <td>521</td>\n",
       "    </tr>\n",
       "  </tbody>\n",
       "</table>\n",
       "</div>"
      ],
      "text/plain": [
       "      0    1     2    3\n",
       "0  4413   35    51    3\n",
       "1   154  948   115    2\n",
       "2    19    5  4199    0\n",
       "3    81    4   122  521"
      ]
     },
     "execution_count": 8,
     "metadata": {},
     "output_type": "execute_result"
    }
   ],
   "source": [
    "print('（学習データ）左: 正解ラベル - 上: 推論結果')\n",
    "pd.DataFrame(cm_train)"
   ]
  },
  {
   "cell_type": "code",
   "execution_count": 9,
   "id": "wanted-surfing",
   "metadata": {},
   "outputs": [
    {
     "name": "stdout",
     "output_type": "stream",
     "text": [
      "（評価データ）左: 正解ラベル - 上: 推論結果\n"
     ]
    },
    {
     "data": {
      "text/html": [
       "<div>\n",
       "<style scoped>\n",
       "    .dataframe tbody tr th:only-of-type {\n",
       "        vertical-align: middle;\n",
       "    }\n",
       "\n",
       "    .dataframe tbody tr th {\n",
       "        vertical-align: top;\n",
       "    }\n",
       "\n",
       "    .dataframe thead th {\n",
       "        text-align: right;\n",
       "    }\n",
       "</style>\n",
       "<table border=\"1\" class=\"dataframe\">\n",
       "  <thead>\n",
       "    <tr style=\"text-align: right;\">\n",
       "      <th></th>\n",
       "      <th>0</th>\n",
       "      <th>1</th>\n",
       "      <th>2</th>\n",
       "      <th>3</th>\n",
       "    </tr>\n",
       "  </thead>\n",
       "  <tbody>\n",
       "    <tr>\n",
       "      <th>0</th>\n",
       "      <td>526</td>\n",
       "      <td>9</td>\n",
       "      <td>26</td>\n",
       "      <td>2</td>\n",
       "    </tr>\n",
       "    <tr>\n",
       "      <th>1</th>\n",
       "      <td>39</td>\n",
       "      <td>87</td>\n",
       "      <td>25</td>\n",
       "      <td>1</td>\n",
       "    </tr>\n",
       "    <tr>\n",
       "      <th>2</th>\n",
       "      <td>9</td>\n",
       "      <td>1</td>\n",
       "      <td>518</td>\n",
       "      <td>0</td>\n",
       "    </tr>\n",
       "    <tr>\n",
       "      <th>3</th>\n",
       "      <td>20</td>\n",
       "      <td>1</td>\n",
       "      <td>20</td>\n",
       "      <td>50</td>\n",
       "    </tr>\n",
       "  </tbody>\n",
       "</table>\n",
       "</div>"
      ],
      "text/plain": [
       "     0   1    2   3\n",
       "0  526   9   26   2\n",
       "1   39  87   25   1\n",
       "2    9   1  518   0\n",
       "3   20   1   20  50"
      ]
     },
     "execution_count": 9,
     "metadata": {},
     "output_type": "execute_result"
    }
   ],
   "source": [
    "print('（評価データ）左: 正解ラベル - 上: 推論結果')\n",
    "pd.DataFrame(cm_test)"
   ]
  },
  {
   "cell_type": "markdown",
   "id": "marine-default",
   "metadata": {},
   "source": [
    "## 56. 適合率，再現率，F1スコアの計測Permalink\n",
    "52で学習したロジスティック回帰モデルの適合率，再現率，F1スコアを，評価データ上で計測せよ．カテゴリごとに適合率，再現率，F1スコアを求め，カテゴリごとの性能をマイクロ平均（micro-average）とマクロ平均（macro-average）で統合せよ．"
   ]
  },
  {
   "cell_type": "code",
   "execution_count": 10,
   "id": "delayed-array",
   "metadata": {},
   "outputs": [
    {
     "name": "stdout",
     "output_type": "stream",
     "text": [
      "適合率                : [0.88552189 0.8877551  0.87945671 0.94339623]\n",
      "適合率（マイクロ平均）: 0.8853073463268366\n",
      "適合率（マクロ平均）  : 0.8990324800649074\n",
      "-----------------\n",
      "再現率                : [0.93428064 0.57236842 0.98106061 0.54945055]\n",
      "再現率（マイクロ平均）: 0.8853073463268366\n",
      "再現率（マクロ平均）  : 0.7592900539988507\n",
      "-----------------\n",
      "F1スコア                : [0.90924806 0.696      0.92748433 0.69444444]\n",
      "F1スコア（マイクロ平均）: 0.8853073463268366\n",
      "F1スコア（マクロ平均）  : 0.8067942081987076\n"
     ]
    }
   ],
   "source": [
    "import pandas as pd\n",
    "from sklearn.metrics import f1_score, precision_score, recall_score\n",
    "\n",
    "preds_test = model.predict(X_test)\n",
    "\n",
    "print(f'適合率                : {precision_score(y_test, preds_test, average=None)}')\n",
    "print(f\"適合率（マイクロ平均）: {precision_score(y_test, preds_test, average='micro')}\")\n",
    "print(f\"適合率（マクロ平均）  : {precision_score(y_test, preds_test, average='macro')}\")\n",
    "print('-----------------')\n",
    "print(f'再現率                : {recall_score(y_test, preds_test, average=None)}')\n",
    "print(f\"再現率（マイクロ平均）: {recall_score(y_test, preds_test, average='micro')}\")\n",
    "print(f\"再現率（マクロ平均）  : {recall_score(y_test, preds_test, average='macro')}\")\n",
    "print('-----------------')\n",
    "print(f'F1スコア                : {f1_score(y_test, preds_test, average=None)}')\n",
    "print(f\"F1スコア（マイクロ平均）: {f1_score(y_test, preds_test, average='micro')}\")\n",
    "print(f\"F1スコア（マクロ平均）  : {f1_score(y_test, preds_test, average='macro')}\")"
   ]
  },
  {
   "cell_type": "markdown",
   "id": "continuing-entertainment",
   "metadata": {},
   "source": [
    "## 57. 特徴量の重みの確認\n",
    "52で学習したロジスティック回帰モデルの中で，重みの高い特徴量トップ10と，重みの低い特徴量トップ10を確認せよ．"
   ]
  },
  {
   "cell_type": "code",
   "execution_count": 11,
   "id": "generous-binding",
   "metadata": {},
   "outputs": [
    {
     "name": "stdout",
     "output_type": "stream",
     "text": [
      "重みの高い特徴量トップ10\n",
      "  ('google', 2.7765540154741912)\n",
      "  ('facebook', 2.416435084409068)\n",
      "  ('apple', 2.3503472571960597)\n",
      "  ('ebola', 2.3159634330562624)\n",
      "  ('study', 1.9815774534112953)\n",
      "  ('microsoft', 1.976858919921507)\n",
      "  ('climate', 1.9292338674381755)\n",
      "  ('update', 1.8847786640221444)\n",
      "  ('cancer', 1.8683900799492426)\n",
      "  ('fda', 1.7199091566408131)\n",
      "重みの低い特徴量トップ10\n",
      "  ('upstage', 0.0010412205051274848)\n",
      "  ('active', 0.0017060165615213764)\n",
      "  ('invitation', 0.0017592750195685833)\n",
      "  ('tone', 0.0017671900396924313)\n",
      "  ('outsell', 0.0019452002240825418)\n",
      "  ('brushed', 0.0025754658933553466)\n",
      "  ('sideboob', 0.0026272341334732646)\n",
      "  ('choreograph', 0.002682934529096472)\n",
      "  ('crypt', 0.0029919970066449087)\n",
      "  ('extravagant', 0.0030894287680318256)\n"
     ]
    }
   ],
   "source": [
    "import joblib\n",
    "\n",
    "vocab = joblib.load('vocab.joblib')\n",
    "coef = abs(model.clf.coef_).mean(axis=0)\n",
    "sort = sorted(zip(vocab, coef), key=lambda x: x[1])\n",
    "\n",
    "print('重みの高い特徴量トップ10')\n",
    "for up in sort[::-1][:10]:\n",
    "    print(f'  {up}')\n",
    "\n",
    "print('重みの低い特徴量トップ10')\n",
    "for down in sort[:10]:\n",
    "    print(f'  {down}')"
   ]
  },
  {
   "cell_type": "markdown",
   "id": "psychological-anthony",
   "metadata": {},
   "source": [
    "## 58. 正則化パラメータの変更\n",
    "ロジスティック回帰モデルを学習するとき，正則化パラメータを調整することで，学習時の過学習（overfitting）の度合いを制御できる．異なる正則化パラメータでロジスティック回帰モデルを学習し，学習データ，検証データ，および評価データ上の正解率を求めよ．実験の結果は，正則化パラメータを横軸，正解率を縦軸としたグラフにまとめよ．"
   ]
  },
  {
   "cell_type": "code",
   "execution_count": 12,
   "id": "exclusive-cincinnati",
   "metadata": {},
   "outputs": [
    {
     "name": "stdout",
     "output_type": "stream",
     "text": [
      "学習終わり: C=0.1\n",
      "学習終わり: C=1\n",
      "学習終わり: C=5\n",
      "学習終わり: C=10\n"
     ]
    },
    {
     "data": {
      "image/png": "[encoded data removed]",
      "text/plain": [
       "<Figure size 432x288 with 1 Axes>"
      ]
     },
     "metadata": {
      "needs_background": "light"
     },
     "output_type": "display_data"
    }
   ],
   "source": [
    "import matplotlib.pyplot as plt\n",
    "from sklearn.linear_model import LogisticRegression\n",
    "from sklearn.metrics import accuracy_score\n",
    "%matplotlib inline\n",
    "\n",
    "seed = 42\n",
    "Cs = [0.1, 1, 5, 10]\n",
    "\n",
    "acc_train = []\n",
    "acc_valid = []\n",
    "acc_test = []\n",
    "for C in Cs:\n",
    "    clf = LogisticRegression(solver='sag', C=C, random_state=seed)\n",
    "    clf.fit(X_train, y_train)\n",
    "\n",
    "    acc_train.append(accuracy_score(y_train, clf.predict(X_train)))\n",
    "    acc_valid.append(accuracy_score(y_valid, clf.predict(X_valid)))\n",
    "    acc_test.append(accuracy_score(y_test, clf.predict(X_test)))\n",
    "    print(f'学習終わり: C={C}')\n",
    "    \n",
    "plt.plot(Cs, acc_train, label='train')\n",
    "plt.plot(Cs, acc_valid, label='valid')\n",
    "plt.plot(Cs, acc_test, label='test')\n",
    "plt.ylabel('Accuracy')\n",
    "plt.xlabel(', '.join([str(C) for C in Cs]))\n",
    "plt.legend()\n",
    "plt.show()"
   ]
  },
  {
   "cell_type": "markdown",
   "id": "wired-tenant",
   "metadata": {},
   "source": [
    "## 59. ハイパーパラメータの探索\n",
    "学習アルゴリズムや学習パラメータを変えながら，カテゴリ分類モデルを学習せよ．検証データ上の正解率が最も高くなる学習アルゴリズム・パラメータを求めよ．また，その学習アルゴリズム・パラメータを用いたときの評価データ上の正解率を求めよ．"
   ]
  },
  {
   "cell_type": "code",
   "execution_count": null,
   "id": "opponent-virtue",
   "metadata": {},
   "outputs": [],
   "source": []
  }
 ],
 "metadata": {
  "kernelspec": {
   "display_name": "Python 3",
   "language": "python",
   "name": "python3"
  },
  "language_info": {
   "codemirror_mode": {
    "name": "ipython",
    "version": 3
   },
   "file_extension": ".py",
   "mimetype": "text/x-python",
   "name": "python",
   "nbconvert_exporter": "python",
   "pygments_lexer": "ipython3",
   "version": "3.8.7"
  }
 },
 "nbformat": 4,
 "nbformat_minor": 5
}
